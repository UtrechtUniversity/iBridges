{
 "cells": [
  {
   "cell_type": "markdown",
   "id": "d6dbf987",
   "metadata": {},
   "source": [
    "# Small tutorial on iRODS paths"
   ]
  },
  {
   "cell_type": "markdown",
   "id": "dfb329bc",
   "metadata": {},
   "source": [
    "* iRODS deals with POSIX-like paths, i.e. paths use the `/` as delimiter and all absolute paths start with `/`.\n",
    "* In default iRODS instances users have a personal home collection `/<zonename>/home/<username>`\n",
    "* In some iRODS instances like in Yoda  instances users are part of a group and only have access to group collections `/<yodazone>/home/<groupname>`\n",
    "\n",
    "In *iBridges* we allow all paths by default to be strings, which have the to be formatted as described above, i.e. for up and downloads all source and destination paths can be offered as `str`.\n",
    "However, we also offer a small class `IrodsPath` with which some formatting is done automatically."
   ]
  },
  {
   "cell_type": "markdown",
   "id": "f1d4a113",
   "metadata": {},
   "source": [
    "## The iRODS home"
   ]
  },
  {
   "cell_type": "markdown",
   "id": "139a2c8b",
   "metadata": {},
   "source": [
    "In your configuration file `irods_environment.json` you can set a default working directory on the iRODS instance with:\n",
    "```\n",
    "\"irods_home\": \"/<zone>/home/<user or groupname>\"\n",
    "```\n",
    "This information is stored in the iBridges session object and employed by the iBridges IrodsPath object."
   ]
  },
  {
   "cell_type": "markdown",
   "id": "2bd887f2",
   "metadata": {},
   "source": [
    "### Create a session"
   ]
  },
  {
   "cell_type": "code",
   "execution_count": 1,
   "id": "de207d54",
   "metadata": {},
   "outputs": [],
   "source": [
    "from ibridges import Session\n",
    "import os, json\n",
    "from getpass import getpass"
   ]
  },
  {
   "cell_type": "code",
   "execution_count": 2,
   "id": "648f8c49",
   "metadata": {},
   "outputs": [
    {
     "name": "stdout",
     "output_type": "stream",
     "text": [
      "Your iRODS password········\n",
      "Auth with password\n"
     ]
    }
   ],
   "source": [
    "with open(os.path.expanduser(\"~/.irods/irods_environment.json\"), \"r\") as f:\n",
    "    ienv = json.load(f)\n",
    "password = getpass(\"Your iRODS password\")\n",
    "session = Session(irods_env=ienv, password=password)"
   ]
  },
  {
   "cell_type": "code",
   "execution_count": 4,
   "id": "d7bd4841",
   "metadata": {},
   "outputs": [
    {
     "name": "stdout",
     "output_type": "stream",
     "text": [
      "/nluu12p/home/research-test-christine\n"
     ]
    }
   ],
   "source": [
    "print(session.home())"
   ]
  },
  {
   "cell_type": "markdown",
   "id": "e27d67b7",
   "metadata": {},
   "source": [
    "**Note**, that it is not verified that this path really exists on the iRODS server. It is merely a configuration item."
   ]
  },
  {
   "cell_type": "markdown",
   "id": "0ca7ff5e",
   "metadata": {},
   "source": [
    "###  Create an IrodsPath"
   ]
  },
  {
   "cell_type": "code",
   "execution_count": 6,
   "id": "33ea8da2",
   "metadata": {},
   "outputs": [],
   "source": [
    "from ibridges.utils.path import IrodsPath\n",
    "my_empty_ipath = IrodsPath(session)"
   ]
  },
  {
   "cell_type": "markdown",
   "id": "8b99d65b",
   "metadata": {},
   "source": [
    "Let's expect the properties and functions of the empty iRODS path."
   ]
  },
  {
   "cell_type": "code",
   "execution_count": 10,
   "id": "f770f351",
   "metadata": {},
   "outputs": [
    {
     "name": "stdout",
     "output_type": "stream",
     "text": [
      ".\n",
      "['.']\n",
      "False\n",
      "False\n"
     ]
    }
   ],
   "source": [
    "print(my_empty_ipath)\n",
    "print(my_empty_ipath._raw_paths)\n",
    "print(my_empty_ipath.collection_exists())\n",
    "print(my_empty_ipath.dataobject_exists())"
   ]
  },
  {
   "cell_type": "code",
   "execution_count": null,
   "id": "f60f52c7",
   "metadata": {},
   "outputs": [],
   "source": []
  }
 ],
 "metadata": {
  "kernelspec": {
   "display_name": "Python 3 (ipykernel)",
   "language": "python",
   "name": "python3"
  },
  "language_info": {
   "codemirror_mode": {
    "name": "ipython",
    "version": 3
   },
   "file_extension": ".py",
   "mimetype": "text/x-python",
   "name": "python",
   "nbconvert_exporter": "python",
   "pygments_lexer": "ipython3",
   "version": "3.9.18"
  }
 },
 "nbformat": 4,
 "nbformat_minor": 5
}
