{
 "cells": [
  {
   "cell_type": "markdown",
   "id": "d3598e82",
   "metadata": {},
   "source": [
    "# Working with data"
   ]
  },
  {
   "cell_type": "markdown",
   "id": "26ff36c3",
   "metadata": {},
   "source": [
    "On your computer you can open an Explorer which will show you all the files and the directories. In iRODS we have something similar: we have data objects which you can see for the moment as a file and we have collections which are similar to directories.\n",
    "\n",
    "In the course of this and the next tutorials it will become clear that this is only an analogy and that there is more to data objects and collections."
   ]
  },
  {
   "cell_type": "markdown",
   "id": "458b2f0f",
   "metadata": {},
   "source": [
    "## Create an iRODS session"
   ]
  },
  {
   "cell_type": "markdown",
   "id": "ed555077",
   "metadata": {},
   "source": [
    "Again, to work from your Laptop with data in iRODS you will need a `session` as describes in [01-Setup-and-connect](01-Setup-and-connect.ipynb)."
   ]
  },
  {
   "cell_type": "code",
   "execution_count": 1,
   "id": "1d3515bf",
   "metadata": {},
   "outputs": [
    {
     "name": "stdout",
     "output_type": "stream",
     "text": [
      "/Users/staig001/git-repos/iBridges/Tutorials\n",
      "/Users/staig001/git-repos/iBridges\n"
     ]
    }
   ],
   "source": [
    "import os\n",
    "print(os.getcwd())\n",
    "os.chdir('..')\n",
    "print(os.getcwd()) # needs to return ../iBridges"
   ]
  },
  {
   "cell_type": "code",
   "execution_count": 2,
   "id": "e5ef4e10",
   "metadata": {},
   "outputs": [
    {
     "name": "stdout",
     "output_type": "stream",
     "text": [
      "Auth without password\n"
     ]
    }
   ],
   "source": [
    "from ibridges.interactive import interactive_auth\n",
    "session = interactive_auth()"
   ]
  },
  {
   "cell_type": "markdown",
   "id": "172e153a",
   "metadata": {},
   "source": [
    "## Create a collection and upload a file"
   ]
  },
  {
   "cell_type": "markdown",
   "id": "9645865a",
   "metadata": {},
   "source": [
    "We will now create a new collection on iRODS in your current iRODS working location:"
   ]
  },
  {
   "cell_type": "code",
   "execution_count": 3,
   "id": "716769b9",
   "metadata": {},
   "outputs": [
    {
     "name": "stdout",
     "output_type": "stream",
     "text": [
      "Current working location: /nluu12p/home/research-test-christine\n",
      "New collection name: /nluu12p/home/research-test-christine/demo\n",
      "New collection is created: True\n"
     ]
    }
   ],
   "source": [
    "from ibridges.path import IrodsPath\n",
    "from ibridges.data_operations import create_collection\n",
    "irods_path = IrodsPath(session, '~')\n",
    "print(\"Current working location:\", irods_path)\n",
    "irods_coll_path = irods_path.joinpath('demo')\n",
    "print(\"New collection name:\", irods_coll_path)\n",
    "coll = create_collection(session, irods_coll_path)\n",
    "print(\"New collection is created:\", irods_coll_path.collection_exists())"
   ]
  },
  {
   "cell_type": "markdown",
   "id": "2ef9c2fd",
   "metadata": {},
   "source": [
    "Now we will upload a file to that new iRODS collection. In this tutorial we assume that you have a file called `demofile.txt` in your home:\n",
    "- Linux: `/home/<user>/demofile.txt`\n",
    "- Mac: `/Users/<user>/demofile.txt`\n",
    "- Windows: `C:\\Users\\<user>\\demofile.txt`\n",
    "\n",
    "Let's check that first."
   ]
  },
  {
   "cell_type": "code",
   "execution_count": 4,
   "id": "cbe34a24",
   "metadata": {},
   "outputs": [
    {
     "name": "stdout",
     "output_type": "stream",
     "text": [
      "You are good to follow the next steps!\n"
     ]
    }
   ],
   "source": [
    "import os\n",
    "from pathlib import Path\n",
    "local_file = Path(os.path.expanduser('~')).joinpath('demofile.txt')\n",
    "if os.path.isfile(local_file):\n",
    "    print('You are good to follow the next steps!')\n",
    "else:\n",
    "    print(f'Please create a file {local_file} before you continue')"
   ]
  },
  {
   "cell_type": "markdown",
   "id": "eaf9182b",
   "metadata": {},
   "source": [
    "Now we can upload that file:"
   ]
  },
  {
   "cell_type": "code",
   "execution_count": 5,
   "id": "f6be04e0",
   "metadata": {},
   "outputs": [
    {
     "ename": "OVERWRITE_WITHOUT_FORCE_FLAG",
     "evalue": "",
     "output_type": "error",
     "traceback": [
      "\u001b[0;31m---------------------------------------------------------------------------\u001b[0m",
      "\u001b[0;31mOVERWRITE_WITHOUT_FORCE_FLAG\u001b[0m              Traceback (most recent call last)",
      "Input \u001b[0;32mIn [5]\u001b[0m, in \u001b[0;36m<cell line: 2>\u001b[0;34m()\u001b[0m\n\u001b[1;32m      1\u001b[0m \u001b[38;5;28;01mfrom\u001b[39;00m \u001b[38;5;21;01mibridges\u001b[39;00m \u001b[38;5;28;01mimport\u001b[39;00m upload\n\u001b[0;32m----> 2\u001b[0m \u001b[43mupload\u001b[49m\u001b[43m(\u001b[49m\u001b[43msession\u001b[49m\u001b[43m,\u001b[49m\u001b[43m \u001b[49m\u001b[43mlocal_file\u001b[49m\u001b[43m,\u001b[49m\u001b[43m \u001b[49m\u001b[43mirods_coll_path\u001b[49m\u001b[43m)\u001b[49m\n",
      "File \u001b[0;32m~/git-repos/iBridges/ibridges/data_operations.py:308\u001b[0m, in \u001b[0;36mupload\u001b[0;34m(session, local_path, irods_path, overwrite, resc_name, options)\u001b[0m\n\u001b[1;32m    306\u001b[0m         _upload_collection(session, local_path, irods_path, overwrite, resc_name, options)\n\u001b[1;32m    307\u001b[0m     \u001b[38;5;28;01melse\u001b[39;00m:\n\u001b[0;32m--> 308\u001b[0m         \u001b[43m_obj_put\u001b[49m\u001b[43m(\u001b[49m\u001b[43msession\u001b[49m\u001b[43m,\u001b[49m\u001b[43m \u001b[49m\u001b[43mlocal_path\u001b[49m\u001b[43m,\u001b[49m\u001b[43m \u001b[49m\u001b[43mirods_path\u001b[49m\u001b[43m,\u001b[49m\u001b[43m \u001b[49m\u001b[43moverwrite\u001b[49m\u001b[43m,\u001b[49m\u001b[43m \u001b[49m\u001b[43mresc_name\u001b[49m\u001b[43m,\u001b[49m\u001b[43m \u001b[49m\u001b[43moptions\u001b[49m\u001b[43m)\u001b[49m\n\u001b[1;32m    309\u001b[0m \u001b[38;5;28;01mexcept\u001b[39;00m irods\u001b[38;5;241m.\u001b[39mexception\u001b[38;5;241m.\u001b[39mCUT_ACTION_PROCESSED_ERR \u001b[38;5;28;01mas\u001b[39;00m exc:\n\u001b[1;32m    310\u001b[0m     \u001b[38;5;28;01mraise\u001b[39;00m irods\u001b[38;5;241m.\u001b[39mexception\u001b[38;5;241m.\u001b[39mCUT_ACTION_PROCESSED_ERR(\n\u001b[1;32m    311\u001b[0m         \u001b[38;5;124mf\u001b[39m\u001b[38;5;124m\"\u001b[39m\u001b[38;5;124mDuring upload operation to \u001b[39m\u001b[38;5;124m'\u001b[39m\u001b[38;5;132;01m{\u001b[39;00mirods_path\u001b[38;5;132;01m}\u001b[39;00m\u001b[38;5;124m'\u001b[39m\u001b[38;5;124m: iRODS server forbids action.\u001b[39m\u001b[38;5;124m\"\u001b[39m) \u001b[38;5;28;01mfrom\u001b[39;00m \u001b[38;5;21;01mexc\u001b[39;00m\n",
      "File \u001b[0;32m~/git-repos/iBridges/ibridges/data_operations.py:152\u001b[0m, in \u001b[0;36m_obj_put\u001b[0;34m(session, local_path, irods_path, overwrite, resc_name, options)\u001b[0m\n\u001b[1;32m    150\u001b[0m     session\u001b[38;5;241m.\u001b[39mirods_session\u001b[38;5;241m.\u001b[39mdata_objects\u001b[38;5;241m.\u001b[39mput(local_path, \u001b[38;5;28mstr\u001b[39m(irods_path), \u001b[38;5;241m*\u001b[39m\u001b[38;5;241m*\u001b[39moptions)\n\u001b[1;32m    151\u001b[0m \u001b[38;5;28;01melse\u001b[39;00m:\n\u001b[0;32m--> 152\u001b[0m     \u001b[38;5;28;01mraise\u001b[39;00m irods\u001b[38;5;241m.\u001b[39mexception\u001b[38;5;241m.\u001b[39mOVERWRITE_WITHOUT_FORCE_FLAG\n",
      "\u001b[0;31mOVERWRITE_WITHOUT_FORCE_FLAG\u001b[0m: "
     ]
    }
   ],
   "source": [
    "from ibridges import upload\n",
    "upload(session, local_file, irods_coll_path)"
   ]
  },
  {
   "cell_type": "markdown",
   "id": "94ace2c2",
   "metadata": {},
   "source": [
    "We now created a new data object in iRODS:\n",
    "<img src=\"img/DataObject1.png\" width=\"400\">\n",
    "\n",
    "How can we now be sure that the file is uploaded? Remember, when we created the new collection `demo`, we created a python object called `coll`. Let's inspect that:"
   ]
  },
  {
   "cell_type": "code",
   "execution_count": 6,
   "id": "91b73ddd",
   "metadata": {},
   "outputs": [
    {
     "name": "stdout",
     "output_type": "stream",
     "text": [
      "demo\n",
      "/nluu12p/home/research-test-christine/demo\n"
     ]
    }
   ],
   "source": [
    "print(coll.name)\n",
    "print(coll.path)"
   ]
  },
  {
   "cell_type": "markdown",
   "id": "e41763a3",
   "metadata": {},
   "source": [
    "Apart from information about its name and its path, a collection also carries a list of `subcollections` and `data_objects`."
   ]
  },
  {
   "cell_type": "code",
   "execution_count": 7,
   "id": "48777591",
   "metadata": {},
   "outputs": [
    {
     "name": "stdout",
     "output_type": "stream",
     "text": [
      "Current subcollections in /nluu12p/home/research-test-christine/demo: []\n",
      "Current data objects in /nluu12p/home/research-test-christine/demo: [<iRODSDataObject 24384113 demofile.txt>]\n"
     ]
    }
   ],
   "source": [
    "print(f'Current subcollections in {coll.path}:', coll.subcollections)\n",
    "print(f'Current data objects in {coll.path}:', coll.data_objects)"
   ]
  },
  {
   "cell_type": "markdown",
   "id": "2e3380dc",
   "metadata": {},
   "source": [
    "## Download the file and the collection"
   ]
  },
  {
   "cell_type": "markdown",
   "id": "ef68a87a",
   "metadata": {},
   "source": [
    "Of course we can also download the data object we have just created. We will download it to your `Downloads` directory on you computer:"
   ]
  },
  {
   "cell_type": "code",
   "execution_count": 8,
   "id": "e7e770d3",
   "metadata": {},
   "outputs": [],
   "source": [
    "local_path = Path(os.path.expanduser('~')).joinpath('Downloads')\n",
    "assert local_path.is_dir()"
   ]
  },
  {
   "cell_type": "code",
   "execution_count": 9,
   "id": "3d4a6914",
   "metadata": {},
   "outputs": [
    {
     "ename": "OVERWRITE_WITHOUT_FORCE_FLAG",
     "evalue": "",
     "output_type": "error",
     "traceback": [
      "\u001b[0;31m---------------------------------------------------------------------------\u001b[0m",
      "\u001b[0;31mOVERWRITE_WITHOUT_FORCE_FLAG\u001b[0m              Traceback (most recent call last)",
      "Input \u001b[0;32mIn [9]\u001b[0m, in \u001b[0;36m<cell line: 2>\u001b[0;34m()\u001b[0m\n\u001b[1;32m      1\u001b[0m \u001b[38;5;28;01mfrom\u001b[39;00m \u001b[38;5;21;01mibridges\u001b[39;00m \u001b[38;5;28;01mimport\u001b[39;00m download\n\u001b[0;32m----> 2\u001b[0m \u001b[43mdownload\u001b[49m\u001b[43m(\u001b[49m\u001b[43msession\u001b[49m\u001b[43m,\u001b[49m\u001b[43m \u001b[49m\u001b[43mirods_coll_path\u001b[49m\u001b[38;5;241;43m.\u001b[39;49m\u001b[43mjoinpath\u001b[49m\u001b[43m(\u001b[49m\u001b[38;5;124;43m'\u001b[39;49m\u001b[38;5;124;43mdemofile.txt\u001b[39;49m\u001b[38;5;124;43m'\u001b[39;49m\u001b[43m)\u001b[49m\u001b[43m,\u001b[49m\u001b[43m \u001b[49m\u001b[43mlocal_path\u001b[49m\u001b[43m)\u001b[49m\n",
      "File \u001b[0;32m~/git-repos/iBridges/ibridges/data_operations.py:337\u001b[0m, in \u001b[0;36mdownload\u001b[0;34m(session, irods_path, local_path, overwrite, _resc_name, options)\u001b[0m\n\u001b[1;32m    335\u001b[0m         _download_collection(session, irods_path, local_path, overwrite, options)\n\u001b[1;32m    336\u001b[0m     \u001b[38;5;28;01melse\u001b[39;00m:\n\u001b[0;32m--> 337\u001b[0m         \u001b[43m_obj_get\u001b[49m\u001b[43m(\u001b[49m\u001b[43msession\u001b[49m\u001b[43m,\u001b[49m\u001b[43m \u001b[49m\u001b[43mirods_path\u001b[49m\u001b[43m,\u001b[49m\u001b[43m \u001b[49m\u001b[43mlocal_path\u001b[49m\u001b[43m,\u001b[49m\u001b[43m \u001b[49m\u001b[43moverwrite\u001b[49m\u001b[43m,\u001b[49m\u001b[43m \u001b[49m\u001b[43moptions\u001b[49m\u001b[43m)\u001b[49m\n\u001b[1;32m    338\u001b[0m \u001b[38;5;28;01mexcept\u001b[39;00m irods\u001b[38;5;241m.\u001b[39mexception\u001b[38;5;241m.\u001b[39mCUT_ACTION_PROCESSED_ERR \u001b[38;5;28;01mas\u001b[39;00m exc:\n\u001b[1;32m    339\u001b[0m     \u001b[38;5;28;01mraise\u001b[39;00m irods\u001b[38;5;241m.\u001b[39mexception\u001b[38;5;241m.\u001b[39mCUT_ACTION_PROCESSED_ERR(\n\u001b[1;32m    340\u001b[0m         \u001b[38;5;124mf\u001b[39m\u001b[38;5;124m\"\u001b[39m\u001b[38;5;124mDuring download operation from \u001b[39m\u001b[38;5;124m'\u001b[39m\u001b[38;5;132;01m{\u001b[39;00mirods_path\u001b[38;5;132;01m}\u001b[39;00m\u001b[38;5;124m'\u001b[39m\u001b[38;5;124m: iRODS server forbids action.\u001b[39m\u001b[38;5;124m\"\u001b[39m\n\u001b[1;32m    341\u001b[0m         ) \u001b[38;5;28;01mfrom\u001b[39;00m \u001b[38;5;21;01mexc\u001b[39;00m\n",
      "File \u001b[0;32m~/git-repos/iBridges/ibridges/data_operations.py:184\u001b[0m, in \u001b[0;36m_obj_get\u001b[0;34m(session, irods_path, local_path, overwrite, options)\u001b[0m\n\u001b[1;32m    181\u001b[0m \u001b[38;5;28;01mif\u001b[39;00m overwrite:\n\u001b[1;32m    182\u001b[0m     options[kw\u001b[38;5;241m.\u001b[39mFORCE_FLAG_KW] \u001b[38;5;241m=\u001b[39m \u001b[38;5;124m'\u001b[39m\u001b[38;5;124m'\u001b[39m\n\u001b[0;32m--> 184\u001b[0m \u001b[43msession\u001b[49m\u001b[38;5;241;43m.\u001b[39;49m\u001b[43mirods_session\u001b[49m\u001b[38;5;241;43m.\u001b[39;49m\u001b[43mdata_objects\u001b[49m\u001b[38;5;241;43m.\u001b[39;49m\u001b[43mget\u001b[49m\u001b[43m(\u001b[49m\u001b[38;5;28;43mstr\u001b[39;49m\u001b[43m(\u001b[49m\u001b[43mirods_path\u001b[49m\u001b[43m)\u001b[49m\u001b[43m,\u001b[49m\u001b[43m \u001b[49m\u001b[43mlocal_path\u001b[49m\u001b[43m,\u001b[49m\u001b[43m \u001b[49m\u001b[38;5;241;43m*\u001b[39;49m\u001b[38;5;241;43m*\u001b[39;49m\u001b[43moptions\u001b[49m\u001b[43m)\u001b[49m\n",
      "File \u001b[0;32m/opt/homebrew/lib/python3.10/site-packages/irods/manager/data_object_manager.py:122\u001b[0m, in \u001b[0;36mDataObjectManager.get\u001b[0;34m(self, path, local_path, num_threads, **options)\u001b[0m\n\u001b[1;32m    120\u001b[0m \u001b[38;5;66;03m# TODO: optimize\u001b[39;00m\n\u001b[1;32m    121\u001b[0m \u001b[38;5;28;01mif\u001b[39;00m local_path:\n\u001b[0;32m--> 122\u001b[0m     \u001b[38;5;28;43mself\u001b[39;49m\u001b[38;5;241;43m.\u001b[39;49m\u001b[43m_download\u001b[49m\u001b[43m(\u001b[49m\u001b[43mpath\u001b[49m\u001b[43m,\u001b[49m\u001b[43m \u001b[49m\u001b[43mlocal_path\u001b[49m\u001b[43m,\u001b[49m\u001b[43m \u001b[49m\u001b[43mnum_threads\u001b[49m\u001b[43m \u001b[49m\u001b[38;5;241;43m=\u001b[39;49m\u001b[43m \u001b[49m\u001b[43mnum_threads\u001b[49m\u001b[43m,\u001b[49m\u001b[43m \u001b[49m\u001b[38;5;241;43m*\u001b[39;49m\u001b[38;5;241;43m*\u001b[39;49m\u001b[43moptions\u001b[49m\u001b[43m)\u001b[49m\n\u001b[1;32m    124\u001b[0m query \u001b[38;5;241m=\u001b[39m \u001b[38;5;28mself\u001b[39m\u001b[38;5;241m.\u001b[39msess\u001b[38;5;241m.\u001b[39mquery(DataObject)\\\n\u001b[1;32m    125\u001b[0m     \u001b[38;5;241m.\u001b[39mfilter(DataObject\u001b[38;5;241m.\u001b[39mname \u001b[38;5;241m==\u001b[39m irods_basename(path))\\\n\u001b[1;32m    126\u001b[0m     \u001b[38;5;241m.\u001b[39mfilter(DataObject\u001b[38;5;241m.\u001b[39mcollection_id \u001b[38;5;241m==\u001b[39m parent\u001b[38;5;241m.\u001b[39mid)\\\n\u001b[1;32m    127\u001b[0m     \u001b[38;5;241m.\u001b[39madd_keyword(kw\u001b[38;5;241m.\u001b[39mZONE_KW, path\u001b[38;5;241m.\u001b[39msplit(\u001b[38;5;124m'\u001b[39m\u001b[38;5;124m/\u001b[39m\u001b[38;5;124m'\u001b[39m)[\u001b[38;5;241m1\u001b[39m])\n\u001b[1;32m    129\u001b[0m \u001b[38;5;28;01mif\u001b[39;00m \u001b[38;5;28mhasattr\u001b[39m(\u001b[38;5;28mself\u001b[39m\u001b[38;5;241m.\u001b[39msess,\u001b[38;5;124m'\u001b[39m\u001b[38;5;124mticket__\u001b[39m\u001b[38;5;124m'\u001b[39m):\n",
      "File \u001b[0;32m/opt/homebrew/lib/python3.10/site-packages/irods/manager/data_object_manager.py:97\u001b[0m, in \u001b[0;36mDataObjectManager._download\u001b[0;34m(self, obj, local_path, num_threads, **options)\u001b[0m\n\u001b[1;32m     95\u001b[0m \u001b[38;5;66;03m# Check for force flag if local_file exists\u001b[39;00m\n\u001b[1;32m     96\u001b[0m \u001b[38;5;28;01mif\u001b[39;00m os\u001b[38;5;241m.\u001b[39mpath\u001b[38;5;241m.\u001b[39mexists(local_file) \u001b[38;5;129;01mand\u001b[39;00m kw\u001b[38;5;241m.\u001b[39mFORCE_FLAG_KW \u001b[38;5;129;01mnot\u001b[39;00m \u001b[38;5;129;01min\u001b[39;00m options:\n\u001b[0;32m---> 97\u001b[0m     \u001b[38;5;28;01mraise\u001b[39;00m ex\u001b[38;5;241m.\u001b[39mOVERWRITE_WITHOUT_FORCE_FLAG\n\u001b[1;32m     99\u001b[0m \u001b[38;5;28;01mwith\u001b[39;00m \u001b[38;5;28mopen\u001b[39m(local_file, \u001b[38;5;124m'\u001b[39m\u001b[38;5;124mwb\u001b[39m\u001b[38;5;124m'\u001b[39m) \u001b[38;5;28;01mas\u001b[39;00m f, \u001b[38;5;28mself\u001b[39m\u001b[38;5;241m.\u001b[39mopen(obj, \u001b[38;5;124m'\u001b[39m\u001b[38;5;124mr\u001b[39m\u001b[38;5;124m'\u001b[39m, \u001b[38;5;241m*\u001b[39m\u001b[38;5;241m*\u001b[39moptions) \u001b[38;5;28;01mas\u001b[39;00m o:\n\u001b[1;32m    101\u001b[0m     \u001b[38;5;28;01mif\u001b[39;00m \u001b[38;5;28mself\u001b[39m\u001b[38;5;241m.\u001b[39mshould_parallelize_transfer (num_threads, o):\n",
      "\u001b[0;31mOVERWRITE_WITHOUT_FORCE_FLAG\u001b[0m: "
     ]
    }
   ],
   "source": [
    "from ibridges import download\n",
    "download(session, irods_coll_path.joinpath('demofile.txt'), local_path)"
   ]
  },
  {
   "cell_type": "markdown",
   "id": "32a53bfc",
   "metadata": {},
   "source": [
    "You can verify taht the file is downloaded.\n",
    "Now, what happens if we download the file again?"
   ]
  },
  {
   "cell_type": "code",
   "execution_count": 10,
   "id": "2d67068c",
   "metadata": {},
   "outputs": [
    {
     "ename": "OVERWRITE_WITHOUT_FORCE_FLAG",
     "evalue": "",
     "output_type": "error",
     "traceback": [
      "\u001b[0;31m---------------------------------------------------------------------------\u001b[0m",
      "\u001b[0;31mOVERWRITE_WITHOUT_FORCE_FLAG\u001b[0m              Traceback (most recent call last)",
      "Input \u001b[0;32mIn [10]\u001b[0m, in \u001b[0;36m<cell line: 1>\u001b[0;34m()\u001b[0m\n\u001b[0;32m----> 1\u001b[0m \u001b[43mdownload\u001b[49m\u001b[43m(\u001b[49m\u001b[43msession\u001b[49m\u001b[43m,\u001b[49m\u001b[43m \u001b[49m\u001b[43mirods_coll_path\u001b[49m\u001b[38;5;241;43m.\u001b[39;49m\u001b[43mjoinpath\u001b[49m\u001b[43m(\u001b[49m\u001b[38;5;124;43m'\u001b[39;49m\u001b[38;5;124;43mdemofile.txt\u001b[39;49m\u001b[38;5;124;43m'\u001b[39;49m\u001b[43m)\u001b[49m\u001b[43m,\u001b[49m\u001b[43m \u001b[49m\u001b[43mlocal_path\u001b[49m\u001b[43m)\u001b[49m\n",
      "File \u001b[0;32m~/git-repos/iBridges/ibridges/data_operations.py:337\u001b[0m, in \u001b[0;36mdownload\u001b[0;34m(session, irods_path, local_path, overwrite, _resc_name, options)\u001b[0m\n\u001b[1;32m    335\u001b[0m         _download_collection(session, irods_path, local_path, overwrite, options)\n\u001b[1;32m    336\u001b[0m     \u001b[38;5;28;01melse\u001b[39;00m:\n\u001b[0;32m--> 337\u001b[0m         \u001b[43m_obj_get\u001b[49m\u001b[43m(\u001b[49m\u001b[43msession\u001b[49m\u001b[43m,\u001b[49m\u001b[43m \u001b[49m\u001b[43mirods_path\u001b[49m\u001b[43m,\u001b[49m\u001b[43m \u001b[49m\u001b[43mlocal_path\u001b[49m\u001b[43m,\u001b[49m\u001b[43m \u001b[49m\u001b[43moverwrite\u001b[49m\u001b[43m,\u001b[49m\u001b[43m \u001b[49m\u001b[43moptions\u001b[49m\u001b[43m)\u001b[49m\n\u001b[1;32m    338\u001b[0m \u001b[38;5;28;01mexcept\u001b[39;00m irods\u001b[38;5;241m.\u001b[39mexception\u001b[38;5;241m.\u001b[39mCUT_ACTION_PROCESSED_ERR \u001b[38;5;28;01mas\u001b[39;00m exc:\n\u001b[1;32m    339\u001b[0m     \u001b[38;5;28;01mraise\u001b[39;00m irods\u001b[38;5;241m.\u001b[39mexception\u001b[38;5;241m.\u001b[39mCUT_ACTION_PROCESSED_ERR(\n\u001b[1;32m    340\u001b[0m         \u001b[38;5;124mf\u001b[39m\u001b[38;5;124m\"\u001b[39m\u001b[38;5;124mDuring download operation from \u001b[39m\u001b[38;5;124m'\u001b[39m\u001b[38;5;132;01m{\u001b[39;00mirods_path\u001b[38;5;132;01m}\u001b[39;00m\u001b[38;5;124m'\u001b[39m\u001b[38;5;124m: iRODS server forbids action.\u001b[39m\u001b[38;5;124m\"\u001b[39m\n\u001b[1;32m    341\u001b[0m         ) \u001b[38;5;28;01mfrom\u001b[39;00m \u001b[38;5;21;01mexc\u001b[39;00m\n",
      "File \u001b[0;32m~/git-repos/iBridges/ibridges/data_operations.py:184\u001b[0m, in \u001b[0;36m_obj_get\u001b[0;34m(session, irods_path, local_path, overwrite, options)\u001b[0m\n\u001b[1;32m    181\u001b[0m \u001b[38;5;28;01mif\u001b[39;00m overwrite:\n\u001b[1;32m    182\u001b[0m     options[kw\u001b[38;5;241m.\u001b[39mFORCE_FLAG_KW] \u001b[38;5;241m=\u001b[39m \u001b[38;5;124m'\u001b[39m\u001b[38;5;124m'\u001b[39m\n\u001b[0;32m--> 184\u001b[0m \u001b[43msession\u001b[49m\u001b[38;5;241;43m.\u001b[39;49m\u001b[43mirods_session\u001b[49m\u001b[38;5;241;43m.\u001b[39;49m\u001b[43mdata_objects\u001b[49m\u001b[38;5;241;43m.\u001b[39;49m\u001b[43mget\u001b[49m\u001b[43m(\u001b[49m\u001b[38;5;28;43mstr\u001b[39;49m\u001b[43m(\u001b[49m\u001b[43mirods_path\u001b[49m\u001b[43m)\u001b[49m\u001b[43m,\u001b[49m\u001b[43m \u001b[49m\u001b[43mlocal_path\u001b[49m\u001b[43m,\u001b[49m\u001b[43m \u001b[49m\u001b[38;5;241;43m*\u001b[39;49m\u001b[38;5;241;43m*\u001b[39;49m\u001b[43moptions\u001b[49m\u001b[43m)\u001b[49m\n",
      "File \u001b[0;32m/opt/homebrew/lib/python3.10/site-packages/irods/manager/data_object_manager.py:122\u001b[0m, in \u001b[0;36mDataObjectManager.get\u001b[0;34m(self, path, local_path, num_threads, **options)\u001b[0m\n\u001b[1;32m    120\u001b[0m \u001b[38;5;66;03m# TODO: optimize\u001b[39;00m\n\u001b[1;32m    121\u001b[0m \u001b[38;5;28;01mif\u001b[39;00m local_path:\n\u001b[0;32m--> 122\u001b[0m     \u001b[38;5;28;43mself\u001b[39;49m\u001b[38;5;241;43m.\u001b[39;49m\u001b[43m_download\u001b[49m\u001b[43m(\u001b[49m\u001b[43mpath\u001b[49m\u001b[43m,\u001b[49m\u001b[43m \u001b[49m\u001b[43mlocal_path\u001b[49m\u001b[43m,\u001b[49m\u001b[43m \u001b[49m\u001b[43mnum_threads\u001b[49m\u001b[43m \u001b[49m\u001b[38;5;241;43m=\u001b[39;49m\u001b[43m \u001b[49m\u001b[43mnum_threads\u001b[49m\u001b[43m,\u001b[49m\u001b[43m \u001b[49m\u001b[38;5;241;43m*\u001b[39;49m\u001b[38;5;241;43m*\u001b[39;49m\u001b[43moptions\u001b[49m\u001b[43m)\u001b[49m\n\u001b[1;32m    124\u001b[0m query \u001b[38;5;241m=\u001b[39m \u001b[38;5;28mself\u001b[39m\u001b[38;5;241m.\u001b[39msess\u001b[38;5;241m.\u001b[39mquery(DataObject)\\\n\u001b[1;32m    125\u001b[0m     \u001b[38;5;241m.\u001b[39mfilter(DataObject\u001b[38;5;241m.\u001b[39mname \u001b[38;5;241m==\u001b[39m irods_basename(path))\\\n\u001b[1;32m    126\u001b[0m     \u001b[38;5;241m.\u001b[39mfilter(DataObject\u001b[38;5;241m.\u001b[39mcollection_id \u001b[38;5;241m==\u001b[39m parent\u001b[38;5;241m.\u001b[39mid)\\\n\u001b[1;32m    127\u001b[0m     \u001b[38;5;241m.\u001b[39madd_keyword(kw\u001b[38;5;241m.\u001b[39mZONE_KW, path\u001b[38;5;241m.\u001b[39msplit(\u001b[38;5;124m'\u001b[39m\u001b[38;5;124m/\u001b[39m\u001b[38;5;124m'\u001b[39m)[\u001b[38;5;241m1\u001b[39m])\n\u001b[1;32m    129\u001b[0m \u001b[38;5;28;01mif\u001b[39;00m \u001b[38;5;28mhasattr\u001b[39m(\u001b[38;5;28mself\u001b[39m\u001b[38;5;241m.\u001b[39msess,\u001b[38;5;124m'\u001b[39m\u001b[38;5;124mticket__\u001b[39m\u001b[38;5;124m'\u001b[39m):\n",
      "File \u001b[0;32m/opt/homebrew/lib/python3.10/site-packages/irods/manager/data_object_manager.py:97\u001b[0m, in \u001b[0;36mDataObjectManager._download\u001b[0;34m(self, obj, local_path, num_threads, **options)\u001b[0m\n\u001b[1;32m     95\u001b[0m \u001b[38;5;66;03m# Check for force flag if local_file exists\u001b[39;00m\n\u001b[1;32m     96\u001b[0m \u001b[38;5;28;01mif\u001b[39;00m os\u001b[38;5;241m.\u001b[39mpath\u001b[38;5;241m.\u001b[39mexists(local_file) \u001b[38;5;129;01mand\u001b[39;00m kw\u001b[38;5;241m.\u001b[39mFORCE_FLAG_KW \u001b[38;5;129;01mnot\u001b[39;00m \u001b[38;5;129;01min\u001b[39;00m options:\n\u001b[0;32m---> 97\u001b[0m     \u001b[38;5;28;01mraise\u001b[39;00m ex\u001b[38;5;241m.\u001b[39mOVERWRITE_WITHOUT_FORCE_FLAG\n\u001b[1;32m     99\u001b[0m \u001b[38;5;28;01mwith\u001b[39;00m \u001b[38;5;28mopen\u001b[39m(local_file, \u001b[38;5;124m'\u001b[39m\u001b[38;5;124mwb\u001b[39m\u001b[38;5;124m'\u001b[39m) \u001b[38;5;28;01mas\u001b[39;00m f, \u001b[38;5;28mself\u001b[39m\u001b[38;5;241m.\u001b[39mopen(obj, \u001b[38;5;124m'\u001b[39m\u001b[38;5;124mr\u001b[39m\u001b[38;5;124m'\u001b[39m, \u001b[38;5;241m*\u001b[39m\u001b[38;5;241m*\u001b[39moptions) \u001b[38;5;28;01mas\u001b[39;00m o:\n\u001b[1;32m    101\u001b[0m     \u001b[38;5;28;01mif\u001b[39;00m \u001b[38;5;28mself\u001b[39m\u001b[38;5;241m.\u001b[39mshould_parallelize_transfer (num_threads, o):\n",
      "\u001b[0;31mOVERWRITE_WITHOUT_FORCE_FLAG\u001b[0m: "
     ]
    }
   ],
   "source": [
    "download(session, irods_coll_path.joinpath('demofile.txt'), local_path)"
   ]
  },
  {
   "cell_type": "markdown",
   "id": "13e5c96d",
   "metadata": {},
   "source": [
    "You will receive an Exception `OVERWRITE_WITHOUT_FORCE_FLAG`. This means that the file is already there.  \n",
    "\n",
    "**Note, both the upload and the download function do not overwrite existing data by default.** \n",
    "\n",
    "You can force to overwrite the existing data by setting the flag `overwrite`:"
   ]
  },
  {
   "cell_type": "code",
   "execution_count": 11,
   "id": "22496425",
   "metadata": {},
   "outputs": [],
   "source": [
    "download(session, irods_coll_path.joinpath('demofile.txt'), local_path, overwrite=True)"
   ]
  },
  {
   "cell_type": "markdown",
   "id": "bff8110e",
   "metadata": {},
   "source": [
    "## System metadata"
   ]
  },
  {
   "cell_type": "markdown",
   "id": "74c72c43",
   "metadata": {},
   "source": [
    "Both, collections and data objects in iRODS are labeled automatically with some extra information. This information is called *system metadata*. We already saw the `name` and the `path` for the collection. But there is more!"
   ]
  },
  {
   "cell_type": "code",
   "execution_count": 12,
   "id": "70f3e9a4",
   "metadata": {},
   "outputs": [
    {
     "name": "stdout",
     "output_type": "stream",
     "text": [
      "Collection demo was created on 2024-02-28 16:12:55\n",
      "The collection was last modified on 2024-02-28 16:21:45\n",
      "The collection was uploaded by and is owned by c.staiger@uu.nl\n"
     ]
    }
   ],
   "source": [
    "print(f'Collection {coll.name} was created on {coll.create_time}')\n",
    "print(f'The collection was last modified on {coll.modify_time}')\n",
    "print(f'The collection was uploaded by and is owned by {coll.owner_name}')"
   ]
  },
  {
   "cell_type": "markdown",
   "id": "19779512",
   "metadata": {},
   "source": [
    "We can also get some system information about the data object we created by uploading the demo file. To insoect a data object (and also a collection) we have to retrieve it from iRODS. We will use the function `get_dataobject` to do so. Note, for collections the function is called `get_collection`."
   ]
  },
  {
   "cell_type": "code",
   "execution_count": 13,
   "id": "bd40cf7c",
   "metadata": {},
   "outputs": [],
   "source": [
    "from ibridges import get_dataobject, get_collection\n",
    "obj = get_dataobject(session, irods_coll_path.joinpath('demofile.txt'))"
   ]
  },
  {
   "cell_type": "markdown",
   "id": "58906168",
   "metadata": {},
   "source": [
    "Now we can inspect the object:"
   ]
  },
  {
   "cell_type": "code",
   "execution_count": 14,
   "id": "908b0f87",
   "metadata": {},
   "outputs": [
    {
     "name": "stdout",
     "output_type": "stream",
     "text": [
      "Data object demofile.txt was created on 2024-02-28 16:21:45\n",
      "Data object demofile.txt full path in iRODS is /nluu12p/home/research-test-christine/demo/demofile.txt\n",
      "The data object was created on 2024-02-28 16:21:45\n",
      "The data object was last modified on 2024-02-28 16:21:45\n",
      "The data object was uploaded by and is owned by c.staiger@uu.nl\n"
     ]
    }
   ],
   "source": [
    "print(f'Data object {obj.name} was created on {obj.create_time}')\n",
    "print(f'Data object {obj.name} full path in iRODS is {obj.path}')\n",
    "print(f'The data object was created on {obj.create_time}')\n",
    "print(f'The data object was last modified on {obj.modify_time}')\n",
    "print(f'The data object was uploaded by and is owned by {obj.owner_name}')"
   ]
  },
  {
   "cell_type": "markdown",
   "id": "007b5097",
   "metadata": {},
   "source": [
    "**Data objects also carry a `size` and a `checksum`**, with which you can check whether the data reached iRODS completely. Checksums are particularly useful. With the size you can only check whether the length of your local file matches the on in iRODS. However, you cannot see if the contents is really the same. E.g. the length of 'Hello' and 'Hallo' are the same, but they do differ. With a checksum you can detect this. A checksum is a digest of the contents of a file.\n",
    "\n",
    "**Note, both functions, `upload` and `download`, will always calculate and compare the checksums between your computer and iRODS**, to make sure that the data is tranferred correctly. "
   ]
  },
  {
   "cell_type": "code",
   "execution_count": 15,
   "id": "73727623",
   "metadata": {},
   "outputs": [
    {
     "name": "stdout",
     "output_type": "stream",
     "text": [
      "Data object size 27\n",
      "Data object checksum sha2:S75BqiOKr5pS7pQokupxImlIkHOzETWyNqaCtutCHP8=\n"
     ]
    }
   ],
   "source": [
    "print('Data object size', obj.size)\n",
    "print('Data object checksum', obj.checksum)"
   ]
  },
  {
   "cell_type": "markdown",
   "id": "c0d605fa",
   "metadata": {},
   "source": [
    "The iRODS full path `obj.path` is the address with which you can get the full data object. Currently, this is the uploaded file and its system metadata\n",
    "<img src=\"img/DataObject2.png\" width=\"400\">"
   ]
  },
  {
   "cell_type": "markdown",
   "id": "d3614078",
   "metadata": {},
   "source": [
    "## Data object replicas"
   ]
  },
  {
   "cell_type": "markdown",
   "id": "98a206e8",
   "metadata": {},
   "source": [
    "Usually when we upload a file to another computer we create one new item which can be found under the path that we used to upload the data. \n",
    "\n",
    "Some iRODS systems distribute the uploaded data to different storage systems. That means, that the file is stored on several storage systems, but you have one path under which you can find the data and address the data. This is called in iRODS a data object `relpica`. When you download data the system decides for you, which is the most advantageous replica to give to you in terms of speed and integrity.\n",
    "\n",
    "<img src=\"img/DataObject3.png\" width=\"400\">\n",
    "\n",
    "Let us inspect how many replicas of our file we have in iRODS:"
   ]
  },
  {
   "cell_type": "code",
   "execution_count": 22,
   "id": "f4ce4f52",
   "metadata": {},
   "outputs": [
    {
     "data": {
      "text/plain": [
       "[(0,\n",
       "  'lp0054_02',\n",
       "  'sha2:S75BqiOKr5pS7pQokupxImlIkHOzETWyNqaCtutCHP8=',\n",
       "  27,\n",
       "  'good')]"
      ]
     },
     "execution_count": 22,
     "metadata": {},
     "output_type": "execute_result"
    }
   ],
   "source": [
    "from ibridges.data_operations import obj_replicas\n",
    "obj_replicas(obj)"
   ]
  },
  {
   "cell_type": "markdown",
   "id": "f3dba0f1",
   "metadata": {},
   "source": [
    "The structure of the answer is a list, where each element of this list is structured like this:"
   ]
  },
  {
   "cell_type": "code",
   "execution_count": 24,
   "id": "852500fc",
   "metadata": {},
   "outputs": [
    {
     "name": "stdout",
     "output_type": "stream",
     "text": [
      "Relplica index: 0\n",
      "Storage system: lp0054_02\n",
      "Replica cecksum sha2:S75BqiOKr5pS7pQokupxImlIkHOzETWyNqaCtutCHP8=\n",
      "Replica size 27\n",
      "Replica status good\n"
     ]
    }
   ],
   "source": [
    "item = obj_replicas(obj)[0]\n",
    "print('Relplica index:', item[0])\n",
    "print('Storage system:', item[1])\n",
    "print('Replica cecksum', item[2])\n",
    "print('Replica size', item[3])\n",
    "print('Replica status', item[4])"
   ]
  },
  {
   "cell_type": "markdown",
   "id": "5ad92b23",
   "metadata": {},
   "source": [
    "The replica status tells you of this particular copy of the data is verified and ok. It should say `good`. In all other cases please send the whole replica information including the path to your iRODS help."
   ]
  },
  {
   "cell_type": "code",
   "execution_count": null,
   "id": "a5196893",
   "metadata": {},
   "outputs": [],
   "source": []
  }
 ],
 "metadata": {
  "kernelspec": {
   "display_name": "Python 3 (ipykernel)",
   "language": "python",
   "name": "python3"
  },
  "language_info": {
   "codemirror_mode": {
    "name": "ipython",
    "version": 3
   },
   "file_extension": ".py",
   "mimetype": "text/x-python",
   "name": "python",
   "nbconvert_exporter": "python",
   "pygments_lexer": "ipython3",
   "version": "3.10.13"
  }
 },
 "nbformat": 4,
 "nbformat_minor": 5
}
