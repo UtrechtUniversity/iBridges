{
 "cells": [
  {
   "cell_type": "markdown",
   "id": "b34804ad",
   "metadata": {},
   "source": [
    "# Data sharing - iRODS permissions"
   ]
  },
  {
   "cell_type": "markdown",
   "id": "e7da9455",
   "metadata": {},
   "source": [
    "In this tutorial we will show you how to share your data with other users in the iRODS system. To see the effects it is helpful to team up with a colleague!!!"
   ]
  },
  {
   "cell_type": "markdown",
   "id": "d81b1269",
   "metadata": {},
   "source": [
    "## What are permissions"
   ]
  },
  {
   "cell_type": "markdown",
   "id": "3e82028a",
   "metadata": {},
   "source": [
    "Permissions in iRODS are part of the data objects and collections. They give information and they allow other users of the same iRODS system to read and edit your data.\n",
    "\n",
    "In iRODS there are four types of permissions:\n",
    "\n",
    "| Access | Meaning|\n",
    "|:---:|:---|\n",
    "|read| The user or the group can **read and download** the data.|\n",
    "|write| The user or group can **modify data objects and upload data to collections**, but can not delete the data or collection.|\n",
    "|own| The user or group can **share and delete** the data.|"
   ]
  },
  {
   "cell_type": "markdown",
   "id": "dee1520f",
   "metadata": {},
   "source": [
    "## Give access to data objects and collections"
   ]
  },
  {
   "cell_type": "code",
   "execution_count": 2,
   "id": "ac314485",
   "metadata": {},
   "outputs": [
    {
     "name": "stdout",
     "output_type": "stream",
     "text": [
      "Auth without password\n"
     ]
    }
   ],
   "source": [
    "from ibridges.interactive import interactive_auth\n",
    "session = interactive_auth()"
   ]
  },
  {
   "cell_type": "markdown",
   "id": "227b5c01",
   "metadata": {},
   "source": [
    "Let us have a look at the permissions of our demo data:"
   ]
  },
  {
   "cell_type": "code",
   "execution_count": 8,
   "id": "c39b1fd6",
   "metadata": {},
   "outputs": [],
   "source": [
    "from ibridges import get_collection, get_dataobject\n",
    "from ibridges.path import IrodsPath\n",
    "\n",
    "irods_coll_path = IrodsPath(session, '~').joinpath('demo')\n",
    "coll = get_collection(session, irods_coll_path)\n",
    "obj = get_dataobject(session, irods_coll_path.joinpath('demofile.txt'))"
   ]
  },
  {
   "cell_type": "markdown",
   "id": "ea8512a2",
   "metadata": {},
   "source": [
    "Like for the metadata we need to load the permissions."
   ]
  },
  {
   "cell_type": "code",
   "execution_count": 10,
   "id": "a4d15e2f",
   "metadata": {},
   "outputs": [
    {
     "name": "stdout",
     "output_type": "stream",
     "text": [
      "datamanager-its#nluu12p\n",
      "\tread object\trodsgroup\n",
      "read-test-christine#nluu12p\n",
      "\tread object\trodsgroup\n",
      "research-test-christine#nluu12p\n",
      "\town\trodsgroup\n",
      "u.aksu@uu.nl#nluu12p\n",
      "\tread object\trodsuser\n",
      "inheritance True\n",
      "\n"
     ]
    }
   ],
   "source": [
    "from ibridges.permissions import Permissions\n",
    "coll_perm = Permissions(session, coll)\n",
    "print(coll_perm)"
   ]
  },
  {
   "cell_type": "markdown",
   "id": "e49a1510",
   "metadata": {},
   "source": [
    "In a native iRODS instance you will see your own username who is labeled with `own`. In Yoda you will see three groups: *research-\\<group\\>*, *read-\\<group\\>* and the *\\<datamanager\\>* group. Every user in these groups has the respective permissions on the data.\n",
    "\n",
    "Now we iwll give your colleague explicit access. **Note that if your colleague is also in one of the respective Yoda groups, the highest permission (the most powerful) will apply.**"
   ]
  },
  {
   "cell_type": "code",
   "execution_count": 14,
   "id": "151beca1",
   "metadata": {},
   "outputs": [
    {
     "name": "stdout",
     "output_type": "stream",
     "text": [
      "datamanager-its#nluu12p\n",
      "\tread object\trodsgroup\n",
      "read-test-christine#nluu12p\n",
      "\tread object\trodsgroup\n",
      "research-test-christine#nluu12p\n",
      "\town\trodsgroup\n",
      "u.aksu@uu.nl#nluu12p\n",
      "\tmodify object\trodsuser\n",
      "inheritance True\n",
      "\n"
     ]
    }
   ],
   "source": [
    "coll_perm.set('write', '<username>')\n",
    "print(coll_perm)"
   ]
  },
  {
   "cell_type": "markdown",
   "id": "2b3f7aad",
   "metadata": {},
   "source": [
    "You will see a new entry with your colleague's iRODS name and *modify object*. We can get the default permission names like that:"
   ]
  },
  {
   "cell_type": "code",
   "execution_count": 15,
   "id": "64ec5de5",
   "metadata": {},
   "outputs": [
    {
     "data": {
      "text/plain": [
       "OrderedDict([('null', 1000),\n",
       "             ('read object', 1050),\n",
       "             ('modify object', 1120),\n",
       "             ('own', 1200)])"
      ]
     },
     "execution_count": 15,
     "metadata": {},
     "output_type": "execute_result"
    }
   ],
   "source": [
    "coll_perm.available_permissions"
   ]
  },
  {
   "cell_type": "markdown",
   "id": "d38d9c4c",
   "metadata": {},
   "source": [
    "Note that some permission-types have synonyms:\n",
    "\n",
    "+ read object: 'read', 'read object', 'read_object'\n",
    "+ modify object: 'write', 'modify object', 'modify_object'"
   ]
  },
  {
   "cell_type": "markdown",
   "id": "63a89479",
   "metadata": {},
   "source": [
    "## Remove access"
   ]
  },
  {
   "cell_type": "markdown",
   "id": "dc825ec5",
   "metadata": {},
   "source": [
    "To remove any permissions, we use the keyword *null*. Again, please note, if your colleague is still part of a group that has access to your data, this will have no effect."
   ]
  },
  {
   "cell_type": "code",
   "execution_count": 16,
   "id": "9b199fad",
   "metadata": {},
   "outputs": [
    {
     "name": "stdout",
     "output_type": "stream",
     "text": [
      "datamanager-its#nluu12p\n",
      "\tread object\trodsgroup\n",
      "read-test-christine#nluu12p\n",
      "\tread object\trodsgroup\n",
      "research-test-christine#nluu12p\n",
      "\town\trodsgroup\n",
      "inheritance True\n",
      "\n"
     ]
    }
   ],
   "source": [
    "coll_perm.set('null', '<username>')\n",
    "print(coll_perm)"
   ]
  },
  {
   "cell_type": "markdown",
   "id": "deccf625",
   "metadata": {},
   "source": [
    "iBridges also prohibits that you lock yourself out of your data:"
   ]
  },
  {
   "cell_type": "code",
   "execution_count": 18,
   "id": "cf9384e8",
   "metadata": {},
   "outputs": [
    {
     "ename": "ValueError",
     "evalue": "Cannot set your own permissions, because you would lose access to the object/collection.",
     "output_type": "error",
     "traceback": [
      "\u001b[0;31m---------------------------------------------------------------------------\u001b[0m",
      "\u001b[0;31mValueError\u001b[0m                                Traceback (most recent call last)",
      "Input \u001b[0;32mIn [18]\u001b[0m, in \u001b[0;36m<cell line: 1>\u001b[0;34m()\u001b[0m\n\u001b[0;32m----> 1\u001b[0m \u001b[43mcoll_perm\u001b[49m\u001b[38;5;241;43m.\u001b[39;49m\u001b[43mset\u001b[49m\u001b[43m(\u001b[49m\u001b[38;5;124;43m'\u001b[39;49m\u001b[38;5;124;43mwrite\u001b[39;49m\u001b[38;5;124;43m'\u001b[39;49m\u001b[43m,\u001b[49m\u001b[43m \u001b[49m\u001b[43msession\u001b[49m\u001b[38;5;241;43m.\u001b[39;49m\u001b[43musername\u001b[49m\u001b[43m)\u001b[49m\n",
      "File \u001b[0;32m/opt/homebrew/lib/python3.10/site-packages/ibridges/permissions.py:65\u001b[0m, in \u001b[0;36mPermissions.set\u001b[0;34m(self, perm, user, zone, recursive, admin)\u001b[0m\n\u001b[1;32m     61\u001b[0m \u001b[38;5;66;03m# forbid that users can change their own ACLs,\u001b[39;00m\n\u001b[1;32m     62\u001b[0m \u001b[38;5;66;03m# does not apply to no/inherit, a setting  on collections which is independent of the user\u001b[39;00m\n\u001b[1;32m     63\u001b[0m \u001b[38;5;28;01mif\u001b[39;00m perm \u001b[38;5;129;01mnot\u001b[39;00m \u001b[38;5;129;01min\u001b[39;00m [\u001b[38;5;124m\"\u001b[39m\u001b[38;5;124minherit\u001b[39m\u001b[38;5;124m\"\u001b[39m, \u001b[38;5;124m\"\u001b[39m\u001b[38;5;124mnoinherit\u001b[39m\u001b[38;5;124m\"\u001b[39m] \u001b[38;5;129;01mand\u001b[39;00m user \u001b[38;5;241m==\u001b[39m \u001b[38;5;28mself\u001b[39m\u001b[38;5;241m.\u001b[39msession\u001b[38;5;241m.\u001b[39musername \u001b[38;5;129;01mand\u001b[39;00m \\\n\u001b[1;32m     64\u001b[0m         zone \u001b[38;5;241m==\u001b[39m \u001b[38;5;28mself\u001b[39m\u001b[38;5;241m.\u001b[39msession\u001b[38;5;241m.\u001b[39mzone:\n\u001b[0;32m---> 65\u001b[0m     \u001b[38;5;28;01mraise\u001b[39;00m \u001b[38;5;167;01mValueError\u001b[39;00m(\u001b[38;5;124m\"\u001b[39m\u001b[38;5;124mCannot set your own permissions, because you would lose \u001b[39m\u001b[38;5;124m\"\u001b[39m\n\u001b[1;32m     66\u001b[0m                      \u001b[38;5;124m\"\u001b[39m\u001b[38;5;124maccess to the object/collection.\u001b[39m\u001b[38;5;124m\"\u001b[39m)\n\u001b[1;32m     67\u001b[0m acl \u001b[38;5;241m=\u001b[39m irods\u001b[38;5;241m.\u001b[39maccess\u001b[38;5;241m.\u001b[39miRODSAccess(perm, \u001b[38;5;28mself\u001b[39m\u001b[38;5;241m.\u001b[39mitem\u001b[38;5;241m.\u001b[39mpath, user, zone)\n\u001b[1;32m     68\u001b[0m \u001b[38;5;28mself\u001b[39m\u001b[38;5;241m.\u001b[39msession\u001b[38;5;241m.\u001b[39mirods_session\u001b[38;5;241m.\u001b[39macls\u001b[38;5;241m.\u001b[39mset(acl, recursive\u001b[38;5;241m=\u001b[39mrecursive, admin\u001b[38;5;241m=\u001b[39madmin)\n",
      "\u001b[0;31mValueError\u001b[0m: Cannot set your own permissions, because you would lose access to the object/collection."
     ]
    }
   ],
   "source": [
    "coll_perm.set('write', session.username)"
   ]
  },
  {
   "cell_type": "markdown",
   "id": "02a2d697",
   "metadata": {},
   "source": [
    "All the above functionality can also be used for objects"
   ]
  },
  {
   "cell_type": "code",
   "execution_count": 19,
   "id": "8276c94b",
   "metadata": {},
   "outputs": [
    {
     "name": "stdout",
     "output_type": "stream",
     "text": [
      "datamanager-its#nluu12p\n",
      "\tread object\trodsgroup\n",
      "\tread object\trodsgroup\n",
      "read-test-christine#nluu12p\n",
      "\tread object\trodsgroup\n",
      "\tread object\trodsgroup\n",
      "research-test-christine#nluu12p\n",
      "\town\trodsgroup\n",
      "\town\trodsgroup\n",
      "rods#nluu12p\n",
      "\town\trodsadmin\n",
      "\town\trodsadmin\n",
      "u.aksu@uu.nl#nluu12p\n",
      "\tread object\trodsuser\n",
      "\tread object\trodsuser\n",
      "\n"
     ]
    }
   ],
   "source": [
    "obj_perm = Permissions(session, obj)\n",
    "print(obj_perm)"
   ]
  },
  {
   "cell_type": "markdown",
   "id": "b4cff4b3",
   "metadata": {},
   "source": [
    "## Collections: Inheritance"
   ]
  },
  {
   "cell_type": "markdown",
   "id": "6221736b",
   "metadata": {},
   "source": [
    "You might have noticed that collections carry a special permissions keyword *inheritance* which can be `True` or `False`. If inheritance is switched on all new data objects and subcollections will receive the same permissions as the parent collection.\n",
    "\n",
    "Below we create a new collection, ans give access to your colleague and switch te inheritance on:"
   ]
  },
  {
   "cell_type": "code",
   "execution_count": 25,
   "id": "aa59838c",
   "metadata": {},
   "outputs": [
    {
     "name": "stdout",
     "output_type": "stream",
     "text": [
      "datamanager-its#nluu12p\n",
      "\tread object\trodsgroup\n",
      "read-test-christine#nluu12p\n",
      "\tread object\trodsgroup\n",
      "research-test-christine#nluu12p\n",
      "\town\trodsgroup\n",
      "u.aksu@uu.nl#nluu12p\n",
      "\tmodify object\trodsuser\n",
      "inheritance True\n",
      "\n"
     ]
    }
   ],
   "source": [
    "new_coll_path = IrodsPath(session, '~').joinpath('demo1')\n",
    "coll = IrodsPath.create_collection(session, new_coll_path)\n",
    "coll_perm = Permissions(session, coll)\n",
    "coll_perm.set('write', 'u.aksu@uu.nl')\n",
    "coll_perm.set('inherit')\n",
    "print(coll_perm)"
   ]
  },
  {
   "cell_type": "markdown",
   "id": "f58f4894",
   "metadata": {},
   "source": [
    "Now we create a new subcollection:"
   ]
  },
  {
   "cell_type": "code",
   "execution_count": 26,
   "id": "5b284e84",
   "metadata": {},
   "outputs": [],
   "source": [
    "subcoll = IrodsPath.create_collection(session, new_coll_path.joinpath('subcoll'))"
   ]
  },
  {
   "cell_type": "markdown",
   "id": "e7c0654c",
   "metadata": {},
   "source": [
    "And inspect the permissions. They should be the same as the ones above."
   ]
  },
  {
   "cell_type": "code",
   "execution_count": 28,
   "id": "63db1524",
   "metadata": {},
   "outputs": [
    {
     "name": "stdout",
     "output_type": "stream",
     "text": [
      "False\n",
      "datamanager-its#nluu12p\n",
      "\tread object\trodsgroup\n",
      "read-test-christine#nluu12p\n",
      "\tread object\trodsgroup\n",
      "research-test-christine#nluu12p\n",
      "\town\trodsgroup\n",
      "u.aksu@uu.nl#nluu12p\n",
      "\tmodify object\trodsuser\n",
      "inheritance True\n",
      "\n"
     ]
    }
   ],
   "source": [
    "subcoll_perm = Permissions(session, subcoll)\n",
    "print(subcoll_perm)"
   ]
  },
  {
   "cell_type": "markdown",
   "id": "054ec431",
   "metadata": {},
   "source": [
    "Now we will switch off the inheritance of the parent collection and create another subcollection:"
   ]
  },
  {
   "cell_type": "code",
   "execution_count": 29,
   "id": "214208e9",
   "metadata": {},
   "outputs": [
    {
     "name": "stdout",
     "output_type": "stream",
     "text": [
      "datamanager-its#nluu12p\n",
      "\tread object\trodsgroup\n",
      "read-test-christine#nluu12p\n",
      "\tread object\trodsgroup\n",
      "research-test-christine#nluu12p\n",
      "\town\trodsgroup\n",
      "u.aksu@uu.nl#nluu12p\n",
      "\tmodify object\trodsuser\n",
      "inheritance False\n",
      "\n"
     ]
    }
   ],
   "source": [
    "coll_perm.set('noinherit')\n",
    "print(coll_perm)"
   ]
  },
  {
   "cell_type": "code",
   "execution_count": 30,
   "id": "625118b6",
   "metadata": {},
   "outputs": [
    {
     "name": "stdout",
     "output_type": "stream",
     "text": [
      "c.staiger@uu.nl#nluu12p\n",
      "\town\trodsuser\n",
      "inheritance False\n",
      "\n"
     ]
    }
   ],
   "source": [
    "subcoll = IrodsPath.create_collection(session, new_coll_path.joinpath('subcoll1'))\n",
    "subcoll_perm = Permissions(session, subcoll)\n",
    "print(subcoll_perm)"
   ]
  },
  {
   "cell_type": "markdown",
   "id": "08d1f22f",
   "metadata": {},
   "source": [
    "You will see now that you `own` *subcoll1*, that"
   ]
  }
 ],
 "metadata": {
  "kernelspec": {
   "display_name": "Python 3 (ipykernel)",
   "language": "python",
   "name": "python3"
  },
  "language_info": {
   "codemirror_mode": {
    "name": "ipython",
    "version": 3
   },
   "file_extension": ".py",
   "mimetype": "text/x-python",
   "name": "python",
   "nbconvert_exporter": "python",
   "pygments_lexer": "ipython3",
   "version": "3.10.13"
  }
 },
 "nbformat": 4,
 "nbformat_minor": 5
}
