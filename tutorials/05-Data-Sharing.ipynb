{
 "cells": [
  {
   "cell_type": "markdown",
   "id": "b34804ad",
   "metadata": {},
   "source": [
    "# Data sharing - iRODS permissions"
   ]
  },
  {
   "cell_type": "markdown",
   "id": "d81b1269",
   "metadata": {},
   "source": [
    "## What are permissions"
   ]
  },
  {
   "cell_type": "markdown",
   "id": "dee1520f",
   "metadata": {},
   "source": [
    "## Give access to data objects and collections"
   ]
  },
  {
   "cell_type": "markdown",
   "id": "63a89479",
   "metadata": {},
   "source": [
    "## Remove access"
   ]
  },
  {
   "cell_type": "markdown",
   "id": "b4cff4b3",
   "metadata": {},
   "source": [
    "## Collections: Inheritance"
   ]
  },
  {
   "cell_type": "code",
   "execution_count": null,
   "id": "a5f126a1",
   "metadata": {},
   "outputs": [],
   "source": []
  }
 ],
 "metadata": {
  "kernelspec": {
   "display_name": "Python 3 (ipykernel)",
   "language": "python",
   "name": "python3"
  },
  "language_info": {
   "codemirror_mode": {
    "name": "ipython",
    "version": 3
   },
   "file_extension": ".py",
   "mimetype": "text/x-python",
   "name": "python",
   "nbconvert_exporter": "python",
   "pygments_lexer": "ipython3",
   "version": "3.10.13"
  }
 },
 "nbformat": 4,
 "nbformat_minor": 5
}
