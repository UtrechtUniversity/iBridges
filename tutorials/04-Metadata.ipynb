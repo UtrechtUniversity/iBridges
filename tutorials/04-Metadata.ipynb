{
 "cells": [
  {
   "cell_type": "markdown",
   "id": "f9e6811a",
   "metadata": {},
   "source": [
    "# User-defined metadata"
   ]
  },
  {
   "cell_type": "markdown",
   "id": "530fcc42",
   "metadata": {},
   "source": [
    "Next to system metadata, iRODS allows you to create own metadata with data objects and collections.\n",
    "\n",
    "You can use that metadata to describe your data andlater search for this data; and it can help you keeping the overview of what was the input for an analysis and what is the outcome.\n",
    "\n",
    "Technically, iRODS offers metadata as key-value-units triple. Let's investigate this:"
   ]
  },
  {
   "cell_type": "markdown",
   "id": "bde731e4",
   "metadata": {},
   "source": [
    "## Add metadata to data objects"
   ]
  },
  {
   "cell_type": "markdown",
   "id": "53b9a79c",
   "metadata": {},
   "source": [
    "As always: first we have to create an iRODS session:"
   ]
  },
  {
   "cell_type": "code",
   "execution_count": null,
   "id": "3b3cb9b7",
   "metadata": {},
   "outputs": [],
   "source": [
    "from ibridges.interactive import interactive_auth\n",
    "session = interactive_auth()"
   ]
  },
  {
   "cell_type": "markdown",
   "id": "1007e8ee",
   "metadata": {},
   "source": [
    "Now we can retrieve a data object and insect its metadata."
   ]
  },
  {
   "cell_type": "code",
   "execution_count": null,
   "id": "a7888bad",
   "metadata": {},
   "outputs": [],
   "source": [
    "from ibridges import get_dataobject\n",
    "from ibridges.path import IrodsPath\n",
    "from ibridges.meta import MetaData\n",
    "\n",
    "irods_coll_path = IrodsPath(session, '~').joinpath('demo')\n",
    "obj = get_dataobject(session, irods_coll_path.joinpath('demofile.txt'))\n",
    "\n",
    "obj_metadata = MetaData(obj)\n",
    "print(obj_metadata)"
   ]
  },
  {
   "cell_type": "markdown",
   "id": "118687cf",
   "metadata": {},
   "source": [
    "Most probably you will see no metadata in the above cell. **Note, that system metadata and user-defined metadata are two different entities in a data object!**\n",
    "With the command `MetaData(obj)` we only retrieve the user-defined metadata.\n",
    "\n",
    "<img src=\"img/DataObject4.png\" width=\"400\">"
   ]
  },
  {
   "cell_type": "markdown",
   "id": "17f18b77",
   "metadata": {},
   "source": [
    "Now we can add some own metadata. The metadata comes as key-value-units triple:"
   ]
  },
  {
   "cell_type": "code",
   "execution_count": null,
   "id": "e26e4091",
   "metadata": {},
   "outputs": [],
   "source": [
    "obj_metadata.add('Key', 'Value', 'Units')\n",
    "print(obj_metadata)"
   ]
  },
  {
   "cell_type": "markdown",
   "id": "0b149b22",
   "metadata": {},
   "source": [
    "Sometimes we do not really have `units`, so we can leave this part empty:"
   ]
  },
  {
   "cell_type": "code",
   "execution_count": null,
   "id": "3ffcc994",
   "metadata": {},
   "outputs": [],
   "source": [
    "obj_metadata.add('Author', 'Christine')\n",
    "print(obj_metadata)"
   ]
  },
  {
   "cell_type": "markdown",
   "id": "7c79b22a",
   "metadata": {},
   "source": [
    "We can also add a second author:"
   ]
  },
  {
   "cell_type": "code",
   "execution_count": null,
   "id": "f85f1803",
   "metadata": {},
   "outputs": [],
   "source": [
    "obj_metadata.add('Author', 'Raoul')\n",
    "print(obj_metadata)"
   ]
  },
  {
   "cell_type": "markdown",
   "id": "31f65dbc",
   "metadata": {},
   "source": [
    "You see, that keys in **iRODS metadata keys can have different values**. That is different from python dictionaries where one key can only have one value. **How then to overwrite a value?**"
   ]
  },
  {
   "cell_type": "markdown",
   "id": "cf6d7f93",
   "metadata": {},
   "source": [
    "## Overwrite metadata"
   ]
  },
  {
   "cell_type": "markdown",
   "id": "9dde8c91",
   "metadata": {},
   "source": [
    "If youw wish to *overwrite* a value, you can first add the new metadata key-value-units triple as above and subsequently remove the old one, you need to specify the whole triple if the metadata contains a units part. As you see the follwing command will fail:"
   ]
  },
  {
   "cell_type": "code",
   "execution_count": null,
   "id": "1d85539c",
   "metadata": {},
   "outputs": [],
   "source": [
    "obj_metadata.delete('Key', 'Value')"
   ]
  },
  {
   "cell_type": "markdown",
   "id": "2c456f11",
   "metadata": {},
   "source": [
    "While this one will succeed:"
   ]
  },
  {
   "cell_type": "code",
   "execution_count": null,
   "id": "dd9fb651",
   "metadata": {},
   "outputs": [],
   "source": [
    "obj_metadata.delete('Key', 'Value', 'Units')"
   ]
  },
  {
   "cell_type": "markdown",
   "id": "d8244577",
   "metadata": {},
   "source": [
    "You can also set all existing values to **one** new value:"
   ]
  },
  {
   "cell_type": "code",
   "execution_count": null,
   "id": "2d4f4c39",
   "metadata": {},
   "outputs": [],
   "source": [
    "print(obj_metadata)\n",
    "obj_metadata.set('Author', 'Maarten')\n",
    "print(obj_metadata)"
   ]
  },
  {
   "cell_type": "markdown",
   "id": "c3f54857",
   "metadata": {},
   "source": [
    "## Add metadata to collections"
   ]
  },
  {
   "cell_type": "markdown",
   "id": "cf22376c",
   "metadata": {},
   "source": [
    "The same functionality we saw above, we can use for collections:"
   ]
  },
  {
   "cell_type": "code",
   "execution_count": null,
   "id": "12abb8a9",
   "metadata": {},
   "outputs": [],
   "source": [
    "from ibridges import get_collection\n",
    "coll = get_collection(session, irods_coll_path)\n",
    "coll_metadata = MetaData(coll)\n",
    "print(coll_metadata)"
   ]
  },
  {
   "cell_type": "code",
   "execution_count": null,
   "id": "85f2e5e1",
   "metadata": {},
   "outputs": [],
   "source": [
    "coll_metadata.add('TypeOfCollection', 'Results')\n",
    "print(coll_metadata)"
   ]
  },
  {
   "cell_type": "markdown",
   "id": "555e31e9",
   "metadata": {},
   "source": [
    "## Which metadata can help you keeping an overview?"
   ]
  },
  {
   "cell_type": "markdown",
   "id": "6b0ea356",
   "metadata": {},
   "source": [
    "iRODS metadata can help you keeping an overview while youare working with data and maybe many files which have relations to each other. There are ontologies which define keywords and links between keywords like the **[prov-o Ontology](https://www.w3.org/TR/prov-o/#prov-o-at-a-glance)**.\n",
    "\n",
    "Let's see how we can annotate our test data, so that we know that it is test data."
   ]
  },
  {
   "cell_type": "code",
   "execution_count": null,
   "id": "89c97e20",
   "metadata": {},
   "outputs": [],
   "source": [
    "from datetime import datetime\n",
    "coll_metadata.add('prov:wasGeneratedBy', 'Christine')\n",
    "coll_metadata.add('CollectionType', 'testcollection')\n",
    "obj_metadata.add('prov:SoftwareAgent', 'iRODS jupyter Tutorial')\n",
    "obj_metadata.add('prov:wasGeneratedBy', 'Maarten')\n",
    "obj_metadata.add('DataType', 'testdata')"
   ]
  },
  {
   "cell_type": "markdown",
   "id": "d9bd4f47",
   "metadata": {},
   "source": [
    "Now we have some more descriptive metadata that gives us hints, in which context the data was created:"
   ]
  },
  {
   "cell_type": "code",
   "execution_count": null,
   "id": "ee47b221",
   "metadata": {},
   "outputs": [],
   "source": [
    "print(coll_metadata)\n",
    "print(obj_metadata)"
   ]
  },
  {
   "cell_type": "markdown",
   "id": "97c3a175",
   "metadata": {},
   "source": [
    "## Finding data by their metadata"
   ]
  },
  {
   "cell_type": "markdown",
   "id": "490fee36",
   "metadata": {},
   "source": [
    "Metadata does not only help you to. keep an overview over your data, but can also be used to select and retrieve data. In iBridges you can use the user-defined metadata and some system metadata fields to search for data.\n",
    "\n",
    "In our first example we list all collections and data objects in our iRODS home."
   ]
  },
  {
   "cell_type": "code",
   "execution_count": null,
   "id": "8b2c12f3",
   "metadata": {},
   "outputs": [],
   "source": [
    "from ibridges.search import search_data\n",
    "result = search_data(session, path=session.home)\n",
    "print(result)"
   ]
  },
  {
   "cell_type": "markdown",
   "id": "3debb4ec",
   "metadata": {},
   "source": [
    "The output is a list of Python dictionaries, where each dictionary contains\n",
    "\n",
    "1) Collections: `'COLL_NAME': '/<ZONE>/home/<YOUR PATH>'}`\n",
    "2) Data Objects: \n",
    "    ```\n",
    "    {'COLL_NAME': '/<ZONE>/home/<YOUR PATH>', \n",
    "     'DATA_NAME': '<OBJECT NAME>', \n",
    "     'D_DATA_CHECKSUM': '<CHECKSUM>'}\n",
    "    ```\n",
    "\n",
    "Now let's try to find data by its metadata. We will have to create a Python dictionary with the metadata keys and the metadata values as search criterion:"
   ]
  },
  {
   "cell_type": "code",
   "execution_count": null,
   "id": "d4b966b5",
   "metadata": {},
   "outputs": [],
   "source": [
    "key_vals = {'prov:wasGeneratedBy': 'Christine'}\n",
    "result = search_data(session, key_vals=key_vals)\n",
    "print(result)"
   ]
  },
  {
   "cell_type": "markdown",
   "id": "2a15bdca",
   "metadata": {},
   "source": [
    "If we do not want to specify the particular value of the key, we can use a *wildcard*. In iRODS the wildcard is `%`."
   ]
  },
  {
   "cell_type": "code",
   "execution_count": null,
   "id": "faec7e81",
   "metadata": {},
   "outputs": [],
   "source": [
    "key_vals = {'prov:wasGeneratedBy': '%'}\n",
    "result = search_data(session, key_vals=key_vals)\n",
    "print(result)"
   ]
  },
  {
   "cell_type": "markdown",
   "id": "aa35ab5c",
   "metadata": {},
   "source": [
    "Now we also receive the data object that was generated by *Maarten*.\n",
    "\n",
    "And of course we can combine information about the path and the metadata. they will be connected with `and`. The following search will retrieve all data objects and collections wich are labeled with a metadata key *'prov:wasGeneratedBy'* and whose path has the prefix */nluu12p/home/research-test-christine/demo/*."
   ]
  },
  {
   "cell_type": "code",
   "execution_count": null,
   "id": "2ca5b6c4",
   "metadata": {},
   "outputs": [],
   "source": [
    "key_vals = {'prov:wasGeneratedBy': '%'}\n",
    "result = search_data(session, path='/nluu12p/home/research-test-christine/%', key_vals=key_vals)\n",
    "print(result)"
   ]
  },
  {
   "cell_type": "markdown",
   "id": "4e1ab340",
   "metadata": {},
   "source": [
    "## Retrieveing found data"
   ]
  },
  {
   "cell_type": "markdown",
   "id": "ad0d08e6",
   "metadata": {},
   "source": [
    "Now that we have the search results in a list of Python dictionaries, we can use the information to create the full iRODS paths pf the search results and continue working with them e.g. download them."
   ]
  },
  {
   "cell_type": "code",
   "execution_count": null,
   "id": "d6b94e56",
   "metadata": {},
   "outputs": [],
   "source": [
    "from ibridges.path import IrodsPath\n",
    "\n",
    "paths = [IrodsPath(session, res.get('COLL_NAME', '')).joinpath(res.get('DATA_NAME', '')) for res in result]\n",
    "print(paths)"
   ]
  }
 ],
 "metadata": {
  "kernelspec": {
   "display_name": "Python 3 (ipykernel)",
   "language": "python",
   "name": "python3"
  },
  "language_info": {
   "codemirror_mode": {
    "name": "ipython",
    "version": 3
   },
   "file_extension": ".py",
   "mimetype": "text/x-python",
   "name": "python",
   "nbconvert_exporter": "python",
   "pygments_lexer": "ipython3",
   "version": "3.10.13"
  }
 },
 "nbformat": 4,
 "nbformat_minor": 5
}
