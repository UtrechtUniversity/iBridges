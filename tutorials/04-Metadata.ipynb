{
 "cells": [
  {
   "cell_type": "markdown",
   "id": "f9e6811a",
   "metadata": {},
   "source": [
    "# User-defined metadata"
   ]
  },
  {
   "cell_type": "markdown",
   "id": "bde731e4",
   "metadata": {},
   "source": [
    "## Add metadata to data objects"
   ]
  },
  {
   "cell_type": "markdown",
   "id": "cf6d7f93",
   "metadata": {},
   "source": [
    "## Overwrite metadata"
   ]
  },
  {
   "cell_type": "markdown",
   "id": "930e312f",
   "metadata": {},
   "source": [
    "## Remove metadata"
   ]
  },
  {
   "cell_type": "markdown",
   "id": "c3f54857",
   "metadata": {},
   "source": [
    "## Add metadata to collections"
   ]
  },
  {
   "cell_type": "code",
   "execution_count": null,
   "id": "e2e61506",
   "metadata": {},
   "outputs": [],
   "source": []
  }
 ],
 "metadata": {
  "kernelspec": {
   "display_name": "Python 3 (ipykernel)",
   "language": "python",
   "name": "python3"
  },
  "language_info": {
   "codemirror_mode": {
    "name": "ipython",
    "version": 3
   },
   "file_extension": ".py",
   "mimetype": "text/x-python",
   "name": "python",
   "nbconvert_exporter": "python",
   "pygments_lexer": "ipython3",
   "version": "3.10.13"
  }
 },
 "nbformat": 4,
 "nbformat_minor": 5
}
