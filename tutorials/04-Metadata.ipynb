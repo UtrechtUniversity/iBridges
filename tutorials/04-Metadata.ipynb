{
 "cells": [
  {
   "cell_type": "markdown",
   "id": "f9e6811a",
   "metadata": {},
   "source": [
    "# User-defined metadata"
   ]
  },
  {
   "cell_type": "markdown",
   "id": "874fd9f8",
   "metadata": {},
   "source": [
    "Next to system metadata, iRODS allows you to create own metadata with data objects and collections.\n",
    "\n",
    "You can use that metadata to describe your data andlater search for this data; and it can help you keeping the overview of what was the input for an analysis and what is the outcome.\n",
    "\n",
    "Technically, iRODS offers metadata as key-value-units triple. Let's investigate this:"
   ]
  },
  {
   "cell_type": "markdown",
   "id": "bde731e4",
   "metadata": {},
   "source": [
    "## Add metadata to data objects"
   ]
  },
  {
   "cell_type": "markdown",
   "id": "b9dc056b",
   "metadata": {},
   "source": [
    "As always: first we have to create an iRODS session:"
   ]
  },
  {
   "cell_type": "code",
   "execution_count": 1,
   "id": "fc5673be",
   "metadata": {},
   "outputs": [
    {
     "name": "stdout",
     "output_type": "stream",
     "text": [
      "Auth without password\n"
     ]
    }
   ],
   "source": [
    "from ibridges.interactive import interactive_auth\n",
    "session = interactive_auth()"
   ]
  },
  {
   "cell_type": "markdown",
   "id": "2e4b194c",
   "metadata": {},
   "source": [
    "Now we can retrieve a data object and insect its metadata."
   ]
  },
  {
   "cell_type": "code",
   "execution_count": 5,
   "id": "e362d9e0",
   "metadata": {},
   "outputs": [
    {
     "name": "stdout",
     "output_type": "stream",
     "text": [
      "\n"
     ]
    }
   ],
   "source": [
    "from ibridges import get_dataobject\n",
    "from ibridges.path import IrodsPath\n",
    "from ibridges.meta import MetaData\n",
    "\n",
    "irods_coll_path = IrodsPath(session, '~').joinpath('demo')\n",
    "obj = get_dataobject(session, irods_coll_path.joinpath('demofile.txt'))\n",
    "\n",
    "obj_metadata = MetaData(obj)\n",
    "print(obj_metadata)"
   ]
  },
  {
   "cell_type": "markdown",
   "id": "c37c0b33",
   "metadata": {},
   "source": [
    "Most probably you will see no metadata in the above cell. **Note, that system metadata and user-defined metadata are two different entities in a data object!**\n",
    "With the command `MetaData(obj)` we only retrieve the user-defined metadata.\n",
    "\n",
    "<img src=\"img/DataObject4.png\" width=\"400\">"
   ]
  },
  {
   "cell_type": "markdown",
   "id": "fb31a182",
   "metadata": {},
   "source": [
    "Now we can add some own metadata. The metadata comes as key-value-units triple:"
   ]
  },
  {
   "cell_type": "code",
   "execution_count": 6,
   "id": "cc1405e9",
   "metadata": {},
   "outputs": [
    {
     "name": "stdout",
     "output_type": "stream",
     "text": [
      " - {name: Key, value: Value, units: Units}\n",
      "\n"
     ]
    }
   ],
   "source": [
    "obj_metadata.add('Key', 'Value', 'Units')\n",
    "print(obj_metadata)"
   ]
  },
  {
   "cell_type": "markdown",
   "id": "35e6579c",
   "metadata": {},
   "source": [
    "Sometimes we do not really have `units`, so we can leave this part empty:"
   ]
  },
  {
   "cell_type": "code",
   "execution_count": 9,
   "id": "88833b42",
   "metadata": {},
   "outputs": [
    {
     "name": "stdout",
     "output_type": "stream",
     "text": [
      " - {name: Author, value: Christine, units: None}\n",
      " - {name: Key, value: Value, units: Units}\n",
      "\n"
     ]
    }
   ],
   "source": [
    "obj_metadata.add('Author', 'Christine')\n",
    "print(obj_metadata)"
   ]
  },
  {
   "cell_type": "markdown",
   "id": "efddc0fb",
   "metadata": {},
   "source": [
    "We can also add a second author:"
   ]
  },
  {
   "cell_type": "code",
   "execution_count": 10,
   "id": "15e8175b",
   "metadata": {},
   "outputs": [
    {
     "name": "stdout",
     "output_type": "stream",
     "text": [
      " - {name: Author, value: Christine, units: None}\n",
      " - {name: Author, value: Raoul, units: None}\n",
      " - {name: Key, value: Value, units: Units}\n",
      "\n"
     ]
    }
   ],
   "source": [
    "obj_metadata.add('Author', 'Raoul')\n",
    "print(obj_metadata)"
   ]
  },
  {
   "cell_type": "markdown",
   "id": "d5191bdf",
   "metadata": {},
   "source": [
    "You see, that keys in **iRODS metadata keys can have different values**. That is different from python dictionaries where one key can only have one value. **How then to overwrite a value?**"
   ]
  },
  {
   "cell_type": "markdown",
   "id": "cf6d7f93",
   "metadata": {},
   "source": [
    "## Overwrite metadata"
   ]
  },
  {
   "cell_type": "markdown",
   "id": "e4841fa3",
   "metadata": {},
   "source": [
    "If youw wish to *overwrite* a value, you can first add the new metadata key-value-units triple as above and subsequently remove the old one, you need to specify the whole triple if the metadata contains a units part. As you see the follwing command will fail:"
   ]
  },
  {
   "cell_type": "code",
   "execution_count": 12,
   "id": "09e32410",
   "metadata": {},
   "outputs": [
    {
     "ename": "KeyError",
     "evalue": "\"Cannot delete metadata with key 'Key', value 'Value' and units 'None' since it does not exist.\"",
     "output_type": "error",
     "traceback": [
      "\u001b[0;31m---------------------------------------------------------------------------\u001b[0m",
      "\u001b[0;31mCAT_SUCCESS_BUT_WITH_NO_INFO\u001b[0m              Traceback (most recent call last)",
      "File \u001b[0;32m/opt/homebrew/lib/python3.10/site-packages/ibridges/meta.py:133\u001b[0m, in \u001b[0;36mMetaData.delete\u001b[0;34m(self, key, value, units)\u001b[0m\n\u001b[1;32m    132\u001b[0m     \u001b[38;5;28;01melse\u001b[39;00m:\n\u001b[0;32m--> 133\u001b[0m         \u001b[38;5;28;43mself\u001b[39;49m\u001b[38;5;241;43m.\u001b[39;49m\u001b[43mitem\u001b[49m\u001b[38;5;241;43m.\u001b[39;49m\u001b[43mmetadata\u001b[49m\u001b[38;5;241;43m.\u001b[39;49m\u001b[43mremove\u001b[49m\u001b[43m(\u001b[49m\u001b[43mkey\u001b[49m\u001b[43m,\u001b[49m\u001b[43m \u001b[49m\u001b[43mvalue\u001b[49m\u001b[43m,\u001b[49m\u001b[43m \u001b[49m\u001b[43munits\u001b[49m\u001b[43m)\u001b[49m\n\u001b[1;32m    134\u001b[0m \u001b[38;5;28;01mexcept\u001b[39;00m irods\u001b[38;5;241m.\u001b[39mexception\u001b[38;5;241m.\u001b[39mCAT_SUCCESS_BUT_WITH_NO_INFO \u001b[38;5;28;01mas\u001b[39;00m error:\n",
      "File \u001b[0;32m/opt/homebrew/lib/python3.10/site-packages/irods/meta.py:145\u001b[0m, in \u001b[0;36miRODSMetaCollection.remove\u001b[0;34m(self, *args, **opts)\u001b[0m\n\u001b[1;32m    144\u001b[0m meta \u001b[38;5;241m=\u001b[39m \u001b[38;5;28mself\u001b[39m\u001b[38;5;241m.\u001b[39m_get_meta(\u001b[38;5;241m*\u001b[39margs)\n\u001b[0;32m--> 145\u001b[0m \u001b[38;5;28;43mself\u001b[39;49m\u001b[38;5;241;43m.\u001b[39;49m\u001b[43m_manager\u001b[49m\u001b[38;5;241;43m.\u001b[39;49m\u001b[43mremove\u001b[49m\u001b[43m(\u001b[49m\u001b[38;5;28;43mself\u001b[39;49m\u001b[38;5;241;43m.\u001b[39;49m\u001b[43m_model_cls\u001b[49m\u001b[43m,\u001b[49m\u001b[43m \u001b[49m\u001b[38;5;28;43mself\u001b[39;49m\u001b[38;5;241;43m.\u001b[39;49m\u001b[43m_path\u001b[49m\u001b[43m,\u001b[49m\u001b[43m \u001b[49m\u001b[43mmeta\u001b[49m\u001b[43m,\u001b[49m\u001b[43m \u001b[49m\u001b[38;5;241;43m*\u001b[39;49m\u001b[38;5;241;43m*\u001b[39;49m\u001b[43mopts\u001b[49m\u001b[43m)\u001b[49m\n\u001b[1;32m    146\u001b[0m \u001b[38;5;28mself\u001b[39m\u001b[38;5;241m.\u001b[39m_reset_metadata()\n",
      "File \u001b[0;32m/opt/homebrew/lib/python3.10/site-packages/irods/manager/metadata_manager.py:134\u001b[0m, in \u001b[0;36mMetadataManager.remove\u001b[0;34m(self, model_cls, path, meta, **opts)\u001b[0m\n\u001b[1;32m    133\u001b[0m     conn\u001b[38;5;241m.\u001b[39msend(request)\n\u001b[0;32m--> 134\u001b[0m     response \u001b[38;5;241m=\u001b[39m \u001b[43mconn\u001b[49m\u001b[38;5;241;43m.\u001b[39;49m\u001b[43mrecv\u001b[49m\u001b[43m(\u001b[49m\u001b[43m)\u001b[49m\n\u001b[1;32m    135\u001b[0m logger\u001b[38;5;241m.\u001b[39mdebug(response\u001b[38;5;241m.\u001b[39mint_info)\n",
      "File \u001b[0;32m/opt/homebrew/lib/python3.10/site-packages/irods/connection.py:133\u001b[0m, in \u001b[0;36mConnection.recv\u001b[0;34m(self, into_buffer, return_message, acceptable_errors)\u001b[0m\n\u001b[1;32m    132\u001b[0m     \u001b[38;5;28;01mif\u001b[39;00m nominal_code(msg\u001b[38;5;241m.\u001b[39mint_info) \u001b[38;5;129;01mnot\u001b[39;00m \u001b[38;5;129;01min\u001b[39;00m acceptable_codes:\n\u001b[0;32m--> 133\u001b[0m         \u001b[38;5;28;01mraise\u001b[39;00m get_exception_by_code(msg\u001b[38;5;241m.\u001b[39mint_info, err_msg)\n\u001b[1;32m    134\u001b[0m \u001b[38;5;28;01mreturn\u001b[39;00m msg\n",
      "\u001b[0;31mCAT_SUCCESS_BUT_WITH_NO_INFO\u001b[0m: None",
      "\nThe above exception was the direct cause of the following exception:\n",
      "\u001b[0;31mKeyError\u001b[0m                                  Traceback (most recent call last)",
      "Input \u001b[0;32mIn [12]\u001b[0m, in \u001b[0;36m<cell line: 1>\u001b[0;34m()\u001b[0m\n\u001b[0;32m----> 1\u001b[0m \u001b[43mobj_metadata\u001b[49m\u001b[38;5;241;43m.\u001b[39;49m\u001b[43mdelete\u001b[49m\u001b[43m(\u001b[49m\u001b[38;5;124;43m'\u001b[39;49m\u001b[38;5;124;43mKey\u001b[39;49m\u001b[38;5;124;43m'\u001b[39;49m\u001b[43m,\u001b[49m\u001b[43m \u001b[49m\u001b[38;5;124;43m'\u001b[39;49m\u001b[38;5;124;43mValue\u001b[39;49m\u001b[38;5;124;43m'\u001b[39;49m\u001b[43m)\u001b[49m\n",
      "File \u001b[0;32m/opt/homebrew/lib/python3.10/site-packages/ibridges/meta.py:135\u001b[0m, in \u001b[0;36mMetaData.delete\u001b[0;34m(self, key, value, units)\u001b[0m\n\u001b[1;32m    133\u001b[0m         \u001b[38;5;28mself\u001b[39m\u001b[38;5;241m.\u001b[39mitem\u001b[38;5;241m.\u001b[39mmetadata\u001b[38;5;241m.\u001b[39mremove(key, value, units)\n\u001b[1;32m    134\u001b[0m \u001b[38;5;28;01mexcept\u001b[39;00m irods\u001b[38;5;241m.\u001b[39mexception\u001b[38;5;241m.\u001b[39mCAT_SUCCESS_BUT_WITH_NO_INFO \u001b[38;5;28;01mas\u001b[39;00m error:\n\u001b[0;32m--> 135\u001b[0m     \u001b[38;5;28;01mraise\u001b[39;00m \u001b[38;5;167;01mKeyError\u001b[39;00m(\u001b[38;5;124mf\u001b[39m\u001b[38;5;124m\"\u001b[39m\u001b[38;5;124mCannot delete metadata with key \u001b[39m\u001b[38;5;124m'\u001b[39m\u001b[38;5;132;01m{\u001b[39;00mkey\u001b[38;5;132;01m}\u001b[39;00m\u001b[38;5;124m'\u001b[39m\u001b[38;5;124m, value \u001b[39m\u001b[38;5;124m'\u001b[39m\u001b[38;5;132;01m{\u001b[39;00mvalue\u001b[38;5;132;01m}\u001b[39;00m\u001b[38;5;124m'\u001b[39m\u001b[38;5;124m\"\u001b[39m\n\u001b[1;32m    136\u001b[0m                      \u001b[38;5;124mf\u001b[39m\u001b[38;5;124m\"\u001b[39m\u001b[38;5;124m and units \u001b[39m\u001b[38;5;124m'\u001b[39m\u001b[38;5;132;01m{\u001b[39;00munits\u001b[38;5;132;01m}\u001b[39;00m\u001b[38;5;124m'\u001b[39m\u001b[38;5;124m since it does not exist.\u001b[39m\u001b[38;5;124m\"\u001b[39m) \u001b[38;5;28;01mfrom\u001b[39;00m \u001b[38;5;21;01merror\u001b[39;00m\n\u001b[1;32m    137\u001b[0m \u001b[38;5;28;01mexcept\u001b[39;00m irods\u001b[38;5;241m.\u001b[39mexception\u001b[38;5;241m.\u001b[39mCAT_NO_ACCESS_PERMISSION \u001b[38;5;28;01mas\u001b[39;00m error:\n\u001b[1;32m    138\u001b[0m     \u001b[38;5;28;01mraise\u001b[39;00m \u001b[38;5;167;01mValueError\u001b[39;00m(\u001b[38;5;124m\"\u001b[39m\u001b[38;5;124mCannot delete metadata due to insufficient permission for \u001b[39m\u001b[38;5;124m\"\u001b[39m\n\u001b[1;32m    139\u001b[0m                      \u001b[38;5;124m\"\u001b[39m\u001b[38;5;124mpath \u001b[39m\u001b[38;5;124m'\u001b[39m\u001b[38;5;132;01m{item.path}\u001b[39;00m\u001b[38;5;124m'\u001b[39m\u001b[38;5;124m.\u001b[39m\u001b[38;5;124m\"\u001b[39m) \u001b[38;5;28;01mfrom\u001b[39;00m \u001b[38;5;21;01merror\u001b[39;00m\n",
      "\u001b[0;31mKeyError\u001b[0m: \"Cannot delete metadata with key 'Key', value 'Value' and units 'None' since it does not exist.\""
     ]
    }
   ],
   "source": [
    "obj_metadata.delete('Key', 'Value')"
   ]
  },
  {
   "cell_type": "markdown",
   "id": "5d71cd54",
   "metadata": {},
   "source": [
    "While this one will succeed:"
   ]
  },
  {
   "cell_type": "code",
   "execution_count": 13,
   "id": "07bca4fa",
   "metadata": {},
   "outputs": [],
   "source": [
    "obj_metadata.delete('Key', 'Value', 'Units')"
   ]
  },
  {
   "cell_type": "markdown",
   "id": "8758cf02",
   "metadata": {},
   "source": [
    "You can also set all existing values to **one** new value:"
   ]
  },
  {
   "cell_type": "code",
   "execution_count": 16,
   "id": "898d2337",
   "metadata": {},
   "outputs": [
    {
     "name": "stdout",
     "output_type": "stream",
     "text": [
      " - {name: Author, value: Christine, units: None}\n",
      " - {name: Author, value: Raoul, units: None}\n",
      "\n",
      " - {name: Author, value: Maarten, units: None}\n",
      "\n"
     ]
    }
   ],
   "source": [
    "print(obj_metadata)\n",
    "obj_metadata.set('Author', 'Maarten')\n",
    "print(obj_metadata)"
   ]
  },
  {
   "cell_type": "markdown",
   "id": "c3f54857",
   "metadata": {},
   "source": [
    "## Add metadata to collections"
   ]
  },
  {
   "cell_type": "markdown",
   "id": "55e56e97",
   "metadata": {},
   "source": [
    "The same functionality we saw above, we can use for collections:"
   ]
  },
  {
   "cell_type": "code",
   "execution_count": 17,
   "id": "8bcb47c1",
   "metadata": {},
   "outputs": [
    {
     "name": "stdout",
     "output_type": "stream",
     "text": [
      "\n"
     ]
    }
   ],
   "source": [
    "from ibridges import get_collection\n",
    "coll = get_collection(session, irods_coll_path)\n",
    "coll_metadata = MetaData(coll)\n",
    "print(coll_metadata)"
   ]
  },
  {
   "cell_type": "code",
   "execution_count": 18,
   "id": "fbc42232",
   "metadata": {},
   "outputs": [
    {
     "name": "stdout",
     "output_type": "stream",
     "text": [
      " - {name: TypeOfCollection, value: Results, units: None}\n",
      "\n"
     ]
    }
   ],
   "source": [
    "coll_metadata.add('TypeOfCollection', 'Results')\n",
    "print(coll_metadata)"
   ]
  },
  {
   "cell_type": "markdown",
   "id": "e0adb452",
   "metadata": {},
   "source": [
    "## Which metadata can help you keeping an overview?"
   ]
  },
  {
   "cell_type": "markdown",
   "id": "21305588",
   "metadata": {},
   "source": [
    "iRODS metadata can help you keeping an overview while youare working with data and maybe many files which have relations to each other. There are ontologies which define keywords and links between keywords like the **[prov-o Ontology](https://www.w3.org/TR/prov-o/#prov-o-at-a-glance)**.\n",
    "\n",
    "Let's see how we can annotate our test data, so that we know that it is test data."
   ]
  },
  {
   "cell_type": "code",
   "execution_count": 19,
   "id": "207d209c",
   "metadata": {},
   "outputs": [],
   "source": [
    "from datetime import datetime\n",
    "coll_metadata.add('prov:wasGeneratedBy', 'Christine')\n",
    "coll_metadata.add('CollectionType', 'testcollection')\n",
    "obj_metadata.add('prov:SoftwareAgent', 'iRODS jupyter Tutorial')\n",
    "obj_metadata.add('DataType', 'testdata')"
   ]
  },
  {
   "cell_type": "markdown",
   "id": "fc66bf83",
   "metadata": {},
   "source": [
    "Now we have some more descriptive metadata that gives us hints, in which context the data was created:"
   ]
  },
  {
   "cell_type": "code",
   "execution_count": 20,
   "id": "ed439fa5",
   "metadata": {},
   "outputs": [
    {
     "name": "stdout",
     "output_type": "stream",
     "text": [
      " - {name: CollectionType, value: testcollection, units: None}\n",
      " - {name: TypeOfCollection, value: Results, units: None}\n",
      " - {name: prov:wasGeneratedBy, value: Christine, units: None}\n",
      "\n",
      " - {name: Author, value: Maarten, units: None}\n",
      " - {name: DataType, value: testdata, units: None}\n",
      " - {name: prov:SoftwareAgent, value: iRODS jupyter Tutorial, units: None}\n",
      "\n"
     ]
    }
   ],
   "source": [
    "print(coll_metadata)\n",
    "print(obj_metadata)"
   ]
  },
  {
   "cell_type": "code",
   "execution_count": null,
   "id": "de5c4178",
   "metadata": {},
   "outputs": [],
   "source": []
  }
 ],
 "metadata": {
  "kernelspec": {
   "display_name": "Python 3 (ipykernel)",
   "language": "python",
   "name": "python3"
  },
  "language_info": {
   "codemirror_mode": {
    "name": "ipython",
    "version": 3
   },
   "file_extension": ".py",
   "mimetype": "text/x-python",
   "name": "python",
   "nbconvert_exporter": "python",
   "pygments_lexer": "ipython3",
   "version": "3.10.13"
  }
 },
 "nbformat": 4,
 "nbformat_minor": 5
}
