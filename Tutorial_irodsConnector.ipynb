{
 "cells": [
  {
   "cell_type": "markdown",
   "id": "939d9be3",
   "metadata": {},
   "source": [
    "# irodsConnector "
   ]
  },
  {
   "cell_type": "markdown",
   "id": "e02a7976",
   "metadata": {},
   "source": [
    "## Create an iRODS session (connection to iRODS server)"
   ]
  },
  {
   "cell_type": "code",
   "execution_count": 1,
   "id": "b6fd51d6",
   "metadata": {},
   "outputs": [],
   "source": [
    "from ibridges.irodsconnector.session import Session\n",
    "import os, json\n",
    "from getpass import getpass"
   ]
  },
  {
   "cell_type": "markdown",
   "id": "2cc48382",
   "metadata": {},
   "source": [
    "### Password authentication"
   ]
  },
  {
   "cell_type": "code",
   "execution_count": 2,
   "id": "cf36ab7b",
   "metadata": {},
   "outputs": [
    {
     "name": "stdout",
     "output_type": "stream",
     "text": [
      "Auth with password\n"
     ]
    }
   ],
   "source": [
    "with open(os.path.expanduser(\"~/.irods/irods_environment.json\"), \"r\") as f:\n",
    "    ienv = json.load(f)\n",
    "password = getpass(\"Your iRODS password\")\n",
    "session = Session(irods_env=ienv, password=password)"
   ]
  },
  {
   "cell_type": "markdown",
   "id": "71f001b3",
   "metadata": {
    "heading_collapsed": true
   },
   "source": [
    "### Using the cached password ~/.irods/.rodsA"
   ]
  },
  {
   "cell_type": "code",
   "execution_count": 3,
   "id": "242eab2c",
   "metadata": {
    "hidden": true
   },
   "outputs": [
    {
     "name": "stdout",
     "output_type": "stream",
     "text": [
      "Auth with password\n"
     ]
    },
    {
     "ename": "TypeError",
     "evalue": "expected string or bytes-like object, got 'NoneType'",
     "output_type": "error",
     "traceback": [
      "\u001b[0;31m---------------------------------------------------------------------------\u001b[0m",
      "\u001b[0;31mSyntaxError\u001b[0m                               Traceback (most recent call last)",
      "File \u001b[0;32m~/.pyenv/versions/3.11.5/lib/python3.11/site-packages/irods/session.py:215\u001b[0m, in \u001b[0;36miRODSSession.server_version\u001b[0;34m(self)\u001b[0m\n\u001b[1;32m    214\u001b[0m     reported_vsn \u001b[39m=\u001b[39m os\u001b[39m.\u001b[39menviron\u001b[39m.\u001b[39mget(\u001b[39m\"\u001b[39m\u001b[39mPYTHON_IRODSCLIENT_REPORTED_SERVER_VERSION\u001b[39m\u001b[39m\"\u001b[39m,\u001b[39m\"\u001b[39m\u001b[39m\"\u001b[39m)\n\u001b[0;32m--> 215\u001b[0m     \u001b[39mreturn\u001b[39;00m \u001b[39mtuple\u001b[39m(ast\u001b[39m.\u001b[39;49mliteral_eval(reported_vsn))\n\u001b[1;32m    216\u001b[0m \u001b[39mexcept\u001b[39;00m \u001b[39mSyntaxError\u001b[39;00m:  \u001b[39m# environment variable was malformed, empty, or unset\u001b[39;00m\n",
      "File \u001b[0;32m~/.pyenv/versions/3.11.5/lib/python3.11/ast.py:64\u001b[0m, in \u001b[0;36mliteral_eval\u001b[0;34m(node_or_string)\u001b[0m\n\u001b[1;32m     63\u001b[0m \u001b[39mif\u001b[39;00m \u001b[39misinstance\u001b[39m(node_or_string, \u001b[39mstr\u001b[39m):\n\u001b[0;32m---> 64\u001b[0m     node_or_string \u001b[39m=\u001b[39m parse(node_or_string\u001b[39m.\u001b[39;49mlstrip(\u001b[39m\"\u001b[39;49m\u001b[39m \u001b[39;49m\u001b[39m\\t\u001b[39;49;00m\u001b[39m\"\u001b[39;49m), mode\u001b[39m=\u001b[39;49m\u001b[39m'\u001b[39;49m\u001b[39meval\u001b[39;49m\u001b[39m'\u001b[39;49m)\n\u001b[1;32m     65\u001b[0m \u001b[39mif\u001b[39;00m \u001b[39misinstance\u001b[39m(node_or_string, Expression):\n",
      "File \u001b[0;32m~/.pyenv/versions/3.11.5/lib/python3.11/ast.py:50\u001b[0m, in \u001b[0;36mparse\u001b[0;34m(source, filename, mode, type_comments, feature_version)\u001b[0m\n\u001b[1;32m     49\u001b[0m \u001b[39m# Else it should be an int giving the minor version for 3.x.\u001b[39;00m\n\u001b[0;32m---> 50\u001b[0m \u001b[39mreturn\u001b[39;00m \u001b[39mcompile\u001b[39m(source, filename, mode, flags,\n\u001b[1;32m     51\u001b[0m                _feature_version\u001b[39m=\u001b[39mfeature_version)\n",
      "\u001b[0;31mSyntaxError\u001b[0m: invalid syntax (<unknown>, line 0)",
      "\nDuring handling of the above exception, another exception occurred:\n",
      "\u001b[0;31mStopIteration\u001b[0m                             Traceback (most recent call last)",
      "File \u001b[0;32m~/.pyenv/versions/3.11.5/lib/python3.11/site-packages/irods/session.py:221\u001b[0m, in \u001b[0;36miRODSSession.__server_version\u001b[0;34m(self)\u001b[0m\n\u001b[1;32m    220\u001b[0m \u001b[39mtry\u001b[39;00m:\n\u001b[0;32m--> 221\u001b[0m     conn \u001b[39m=\u001b[39m \u001b[39mnext\u001b[39;49m(\u001b[39miter\u001b[39;49m(\u001b[39mself\u001b[39;49m\u001b[39m.\u001b[39;49mpool\u001b[39m.\u001b[39;49mactive))\n\u001b[1;32m    222\u001b[0m     \u001b[39mreturn\u001b[39;00m conn\u001b[39m.\u001b[39mserver_version\n",
      "\u001b[0;31mStopIteration\u001b[0m: ",
      "\nDuring handling of the above exception, another exception occurred:\n",
      "\u001b[0;31mKeyError\u001b[0m                                  Traceback (most recent call last)",
      "File \u001b[0;32m~/.pyenv/versions/3.11.5/lib/python3.11/site-packages/irods/pool.py:59\u001b[0m, in \u001b[0;36mPool.get_connection\u001b[0;34m(self)\u001b[0m\n\u001b[1;32m     58\u001b[0m \u001b[39mtry\u001b[39;00m:\n\u001b[0;32m---> 59\u001b[0m     conn \u001b[39m=\u001b[39m \u001b[39mself\u001b[39;49m\u001b[39m.\u001b[39;49midle\u001b[39m.\u001b[39;49mpop()\n\u001b[1;32m     61\u001b[0m     curr_time \u001b[39m=\u001b[39m datetime\u001b[39m.\u001b[39mdatetime\u001b[39m.\u001b[39mnow()\n",
      "\u001b[0;31mKeyError\u001b[0m: 'pop from an empty set'",
      "\nDuring handling of the above exception, another exception occurred:\n",
      "\u001b[0;31mTypeError\u001b[0m                                 Traceback (most recent call last)",
      "\u001b[1;32m/home/qubix/Documents/shared_work/iBridges/Tutorial_irodsConnector.ipynb Cell 7\u001b[0m line \u001b[0;36m1\n\u001b[0;32m----> <a href='vscode-notebook-cell:/home/qubix/Documents/shared_work/iBridges/Tutorial_irodsConnector.ipynb#W6sZmlsZQ%3D%3D?line=0'>1</a>\u001b[0m session \u001b[39m=\u001b[39m Session(irods_env_path\u001b[39m=\u001b[39;49mos\u001b[39m.\u001b[39;49mpath\u001b[39m.\u001b[39;49mexpanduser(\u001b[39m\"\u001b[39;49m\u001b[39m~/.irods/irods_environment.json\u001b[39;49m\u001b[39m\"\u001b[39;49m))\n",
      "File \u001b[0;32m~/Documents/shared_work/iBridges/ibridges/irodsconnector/session.py:42\u001b[0m, in \u001b[0;36mSession.__init__\u001b[0;34m(self, irods_env, irods_env_path, password)\u001b[0m\n\u001b[1;32m     40\u001b[0m \u001b[39mself\u001b[39m\u001b[39m.\u001b[39m_irods_env \u001b[39m=\u001b[39m irods_env\n\u001b[1;32m     41\u001b[0m \u001b[39mself\u001b[39m\u001b[39m.\u001b[39m_irods_env_path \u001b[39m=\u001b[39m irods_env_path\n\u001b[0;32m---> 42\u001b[0m \u001b[39mself\u001b[39m\u001b[39m.\u001b[39m_irods_session \u001b[39m=\u001b[39m \u001b[39mself\u001b[39;49m\u001b[39m.\u001b[39;49mconnect()\n",
      "File \u001b[0;32m~/Documents/shared_work/iBridges/ibridges/irodsconnector/session.py:109\u001b[0m, in \u001b[0;36mSession.connect\u001b[0;34m(self)\u001b[0m\n\u001b[1;32m    107\u001b[0m \u001b[39mprint\u001b[39m(\u001b[39m\"\u001b[39m\u001b[39mAuth with password\u001b[39m\u001b[39m\"\u001b[39m)\n\u001b[1;32m    108\u001b[0m \u001b[39m# irods environment and given password\u001b[39;00m\n\u001b[0;32m--> 109\u001b[0m \u001b[39mreturn\u001b[39;00m \u001b[39mself\u001b[39;49m\u001b[39m.\u001b[39;49mauthenticate_using_password()\n",
      "File \u001b[0;32m~/Documents/shared_work/iBridges/ibridges/irodsconnector/session.py:125\u001b[0m, in \u001b[0;36mSession.authenticate_using_password\u001b[0;34m(self)\u001b[0m\n\u001b[1;32m    123\u001b[0m     \u001b[39mraise\u001b[39;00m \u001b[39mException\u001b[39;00m(exceptions[\u001b[39mrepr\u001b[39m(e)]\u001b[39m+\u001b[39m\u001b[39m\"\u001b[39m\u001b[39m; \u001b[39m\u001b[39m\"\u001b[39m\u001b[39m+\u001b[39m\u001b[39mrepr\u001b[39m(e))\n\u001b[1;32m    124\u001b[0m \u001b[39melse\u001b[39;00m:\n\u001b[0;32m--> 125\u001b[0m     \u001b[39mraise\u001b[39;00m e\n",
      "File \u001b[0;32m~/Documents/shared_work/iBridges/ibridges/irodsconnector/session.py:115\u001b[0m, in \u001b[0;36mSession.authenticate_using_password\u001b[0;34m(self)\u001b[0m\n\u001b[1;32m    112\u001b[0m \u001b[39mtry\u001b[39;00m:\n\u001b[1;32m    113\u001b[0m     \u001b[39mself\u001b[39m\u001b[39m.\u001b[39m_irods_session \u001b[39m=\u001b[39m irods\u001b[39m.\u001b[39msession\u001b[39m.\u001b[39miRODSSession(password\u001b[39m=\u001b[39m\u001b[39mself\u001b[39m\u001b[39m.\u001b[39m_password,\n\u001b[1;32m    114\u001b[0m                                                      \u001b[39m*\u001b[39m\u001b[39m*\u001b[39m\u001b[39mself\u001b[39m\u001b[39m.\u001b[39m_irods_env)\n\u001b[0;32m--> 115\u001b[0m     \u001b[39massert\u001b[39;00m \u001b[39mself\u001b[39;49m\u001b[39m.\u001b[39;49m_irods_session\u001b[39m.\u001b[39;49mserver_version \u001b[39m!=\u001b[39m ()\n\u001b[1;32m    116\u001b[0m     \u001b[39mreturn\u001b[39;00m \u001b[39mself\u001b[39m\u001b[39m.\u001b[39m_irods_session\n\u001b[1;32m    117\u001b[0m \u001b[39mexcept\u001b[39;00m \u001b[39mValueError\u001b[39;00m \u001b[39mas\u001b[39;00m e:\n",
      "File \u001b[0;32m~/.pyenv/versions/3.11.5/lib/python3.11/site-packages/irods/session.py:217\u001b[0m, in \u001b[0;36miRODSSession.server_version\u001b[0;34m(self)\u001b[0m\n\u001b[1;32m    215\u001b[0m     \u001b[39mreturn\u001b[39;00m \u001b[39mtuple\u001b[39m(ast\u001b[39m.\u001b[39mliteral_eval(reported_vsn))\n\u001b[1;32m    216\u001b[0m \u001b[39mexcept\u001b[39;00m \u001b[39mSyntaxError\u001b[39;00m:  \u001b[39m# environment variable was malformed, empty, or unset\u001b[39;00m\n\u001b[0;32m--> 217\u001b[0m     \u001b[39mreturn\u001b[39;00m \u001b[39mself\u001b[39;49m\u001b[39m.\u001b[39;49m__server_version()\n",
      "File \u001b[0;32m~/.pyenv/versions/3.11.5/lib/python3.11/site-packages/irods/session.py:224\u001b[0m, in \u001b[0;36miRODSSession.__server_version\u001b[0;34m(self)\u001b[0m\n\u001b[1;32m    222\u001b[0m     \u001b[39mreturn\u001b[39;00m conn\u001b[39m.\u001b[39mserver_version\n\u001b[1;32m    223\u001b[0m \u001b[39mexcept\u001b[39;00m \u001b[39mStopIteration\u001b[39;00m:\n\u001b[0;32m--> 224\u001b[0m     conn \u001b[39m=\u001b[39m \u001b[39mself\u001b[39;49m\u001b[39m.\u001b[39;49mpool\u001b[39m.\u001b[39;49mget_connection()\n\u001b[1;32m    225\u001b[0m     version \u001b[39m=\u001b[39m conn\u001b[39m.\u001b[39mserver_version\n\u001b[1;32m    226\u001b[0m     conn\u001b[39m.\u001b[39mrelease()\n",
      "File \u001b[0;32m~/.pyenv/versions/3.11.5/lib/python3.11/site-packages/irods/pool.py:15\u001b[0m, in \u001b[0;36mattribute_from_return_value.<locals>.deco.<locals>.method_\u001b[0;34m(self, *s, **kw)\u001b[0m\n\u001b[1;32m     14\u001b[0m \u001b[39mdef\u001b[39;00m \u001b[39mmethod_\u001b[39m(\u001b[39mself\u001b[39m,\u001b[39m*\u001b[39ms,\u001b[39m*\u001b[39m\u001b[39m*\u001b[39mkw):\n\u001b[0;32m---> 15\u001b[0m     ret \u001b[39m=\u001b[39m method(\u001b[39mself\u001b[39;49m,\u001b[39m*\u001b[39;49ms,\u001b[39m*\u001b[39;49m\u001b[39m*\u001b[39;49mkw)\n\u001b[1;32m     16\u001b[0m     \u001b[39msetattr\u001b[39m(\u001b[39mself\u001b[39m,attrname,ret)\n\u001b[1;32m     17\u001b[0m     \u001b[39mreturn\u001b[39;00m ret\n",
      "File \u001b[0;32m~/.pyenv/versions/3.11.5/lib/python3.11/site-packages/irods/pool.py:75\u001b[0m, in \u001b[0;36mPool.get_connection\u001b[0;34m(self)\u001b[0m\n\u001b[1;32m     73\u001b[0m         logger\u001b[39m.\u001b[39mdebug(\u001b[39m\"\u001b[39m\u001b[39mCreated new connection with id: \u001b[39m\u001b[39m{}\u001b[39;00m\u001b[39m\"\u001b[39m\u001b[39m.\u001b[39mformat(\u001b[39mid\u001b[39m(conn)))\n\u001b[1;32m     74\u001b[0m \u001b[39mexcept\u001b[39;00m \u001b[39mKeyError\u001b[39;00m:\n\u001b[0;32m---> 75\u001b[0m     conn \u001b[39m=\u001b[39m Connection(\u001b[39mself\u001b[39;49m, \u001b[39mself\u001b[39;49m\u001b[39m.\u001b[39;49maccount)\n\u001b[1;32m     76\u001b[0m     logger\u001b[39m.\u001b[39mdebug(\u001b[39m\"\u001b[39m\u001b[39mNo connection found in idle set. Created a new connection with id: \u001b[39m\u001b[39m{}\u001b[39;00m\u001b[39m\"\u001b[39m\u001b[39m.\u001b[39mformat(\u001b[39mid\u001b[39m(conn)))\n\u001b[1;32m     78\u001b[0m \u001b[39mself\u001b[39m\u001b[39m.\u001b[39mactive\u001b[39m.\u001b[39madd(conn)\n",
      "File \u001b[0;32m~/.pyenv/versions/3.11.5/lib/python3.11/site-packages/irods/connection.py:74\u001b[0m, in \u001b[0;36mConnection.__init__\u001b[0;34m(self, pool, account)\u001b[0m\n\u001b[1;32m     72\u001b[0m     \u001b[39mself\u001b[39m\u001b[39m.\u001b[39m_login_gsi()\n\u001b[1;32m     73\u001b[0m \u001b[39melif\u001b[39;00m scheme \u001b[39m==\u001b[39m PAM_AUTH_SCHEME:\n\u001b[0;32m---> 74\u001b[0m     \u001b[39mself\u001b[39;49m\u001b[39m.\u001b[39;49m_login_pam()\n\u001b[1;32m     75\u001b[0m \u001b[39melse\u001b[39;00m:\n\u001b[1;32m     76\u001b[0m     \u001b[39mraise\u001b[39;00m \u001b[39mValueError\u001b[39;00m(\u001b[39m\"\u001b[39m\u001b[39mUnknown authentication scheme \u001b[39m\u001b[39m%s\u001b[39;00m\u001b[39m\"\u001b[39m \u001b[39m%\u001b[39m scheme)\n",
      "File \u001b[0;32m~/.pyenv/versions/3.11.5/lib/python3.11/site-packages/irods/connection.py:443\u001b[0m, in \u001b[0;36mConnection._login_pam\u001b[0;34m(self)\u001b[0m\n\u001b[1;32m    439\u001b[0m \u001b[39mdef\u001b[39;00m \u001b[39m_login_pam\u001b[39m(\u001b[39mself\u001b[39m):\n\u001b[1;32m    441\u001b[0m     time_to_live_in_seconds \u001b[39m=\u001b[39m \u001b[39m60\u001b[39m\n\u001b[0;32m--> 443\u001b[0m     pam_password \u001b[39m=\u001b[39m PAM_PW_ESC_PATTERN\u001b[39m.\u001b[39;49msub(\u001b[39mlambda\u001b[39;49;00m m: \u001b[39m'\u001b[39;49m\u001b[39m\\\\\u001b[39;49;00m\u001b[39m'\u001b[39;49m\u001b[39m+\u001b[39;49mm\u001b[39m.\u001b[39;49mgroup(\u001b[39m1\u001b[39;49m), \u001b[39mself\u001b[39;49m\u001b[39m.\u001b[39;49maccount\u001b[39m.\u001b[39;49mpassword)\n\u001b[1;32m    445\u001b[0m     ctx_user \u001b[39m=\u001b[39m \u001b[39m'\u001b[39m\u001b[39m%s\u001b[39;00m\u001b[39m=\u001b[39m\u001b[39m%s\u001b[39;00m\u001b[39m'\u001b[39m \u001b[39m%\u001b[39m (AUTH_USER_KEY, \u001b[39mself\u001b[39m\u001b[39m.\u001b[39maccount\u001b[39m.\u001b[39mclient_user)\n\u001b[1;32m    446\u001b[0m     ctx_pwd \u001b[39m=\u001b[39m \u001b[39m'\u001b[39m\u001b[39m%s\u001b[39;00m\u001b[39m=\u001b[39m\u001b[39m%s\u001b[39;00m\u001b[39m'\u001b[39m \u001b[39m%\u001b[39m (AUTH_PWD_KEY, pam_password)\n",
      "\u001b[0;31mTypeError\u001b[0m: expected string or bytes-like object, got 'NoneType'"
     ]
    }
   ],
   "source": [
    "session = Session(irods_env_path=os.path.expanduser(\"~/.irods/irods_environment.json\"))"
   ]
  },
  {
   "cell_type": "markdown",
   "id": "0fb9577d",
   "metadata": {},
   "source": [
    "### Checking some session parameters"
   ]
  },
  {
   "cell_type": "code",
   "execution_count": 4,
   "id": "fe178d2c",
   "metadata": {},
   "outputs": [
    {
     "name": "stdout",
     "output_type": "stream",
     "text": [
      "r.d.schram@uu.nl\n",
      "irodsResc\n",
      "nluu12p\n",
      "(4, 2, 12)\n"
     ]
    }
   ],
   "source": [
    "print(session.username)\n",
    "print(session.default_resc) # the resource to which data will be uploaded\n",
    "print(session.zone) # default home for iRODS /zone/home/username\n",
    "print(session.server_version)"
   ]
  },
  {
   "cell_type": "markdown",
   "id": "8214c7fe",
   "metadata": {},
   "source": [
    "## Metadata of data objects and collections\n",
    "### Retrieve an iRODS object or collection and list its metadata"
   ]
  },
  {
   "cell_type": "code",
   "execution_count": 5,
   "id": "9ae7d602",
   "metadata": {},
   "outputs": [
    {
     "name": "stdout",
     "output_type": "stream",
     "text": [
      "/nluu12p/home/research-test-christine/books/BenHur.txt\n"
     ]
    }
   ],
   "source": [
    "#print(ienv)\n",
    "coll_path = ienv.get('irods_home', '') + '/books/BenHur.txt'\n",
    "print(coll_path)\n",
    "coll = session.irods_session.data_objects.get(coll_path) # TODO: exchange once data_ops is done"
   ]
  },
  {
   "cell_type": "code",
   "execution_count": 6,
   "id": "2e8f3c90",
   "metadata": {},
   "outputs": [
    {
     "name": "stdout",
     "output_type": "stream",
     "text": [
      " - {name: AUTHOR, value: Lew Wallace, units: None}\n",
      " - {name: HUHU, value: hihi, units: None}\n",
      " - {name: NEWKEY, value: hihi, units: None}\n",
      "\n"
     ]
    }
   ],
   "source": [
    "from ibridges.irodsconnector.meta import MetaData\n",
    "coll_meta = MetaData(coll)\n",
    "print(coll_meta)"
   ]
  },
  {
   "cell_type": "markdown",
   "id": "42007e1e",
   "metadata": {},
   "source": [
    "### Add, set and delete metadata"
   ]
  },
  {
   "cell_type": "code",
   "execution_count": 7,
   "id": "cfa7f559",
   "metadata": {},
   "outputs": [
    {
     "name": "stdout",
     "output_type": "stream",
     "text": [
      " - {name: AUTHOR, value: Lew Wallace, units: None}\n",
      " - {name: NEWKEY, value: NewValue, units: None}\n",
      " - {name: HUHU, value: hihi, units: None}\n",
      " - {name: NEWKEY, value: hihi, units: None}\n",
      "\n"
     ]
    }
   ],
   "source": [
    "coll_meta.add('NewKey', 'NewValue')\n",
    "print(coll_meta)"
   ]
  },
  {
   "cell_type": "markdown",
   "id": "b3a046d9",
   "metadata": {},
   "source": [
    "Note, that keys are always capitalised. This is good practice in iRODS."
   ]
  },
  {
   "cell_type": "code",
   "execution_count": 8,
   "id": "d8aa144a",
   "metadata": {},
   "outputs": [
    {
     "name": "stdout",
     "output_type": "stream",
     "text": [
      " - {name: AUTHOR, value: Lew Wallace, units: None}\n",
      " - {name: HUHU, value: hihi, units: None}\n",
      " - {name: NEWKEY, value: hihi, units: None}\n",
      "\n"
     ]
    }
   ],
   "source": [
    "coll_meta.delete('NEWKEY', 'NewValue')\n",
    "print(coll_meta)"
   ]
  },
  {
   "cell_type": "markdown",
   "id": "f7b5cafa",
   "metadata": {},
   "source": [
    "We can also set the meta data to a single key, value, units pair. This will remove any other entries with the same key."
   ]
  },
  {
   "cell_type": "code",
   "execution_count": null,
   "id": "770cbec2",
   "metadata": {},
   "outputs": [],
   "source": [
    "coll_meta.set(\"NEWKEY\", \"OtherValue\")"
   ]
  },
  {
   "cell_type": "markdown",
   "id": "82fb48cc",
   "metadata": {
    "heading_collapsed": true
   },
   "source": [
    "## Resources and handling resources"
   ]
  },
  {
   "cell_type": "code",
   "execution_count": null,
   "id": "7361e841",
   "metadata": {
    "hidden": true
   },
   "outputs": [],
   "source": [
    "from ibridges.irodsconnector.resources import Resources\n",
    "resources = Resources(session)"
   ]
  },
  {
   "cell_type": "markdown",
   "id": "3ed14f46",
   "metadata": {
    "hidden": true
   },
   "source": [
    "### Check if default resource exists"
   ]
  },
  {
   "cell_type": "code",
   "execution_count": null,
   "id": "26c6e657",
   "metadata": {
    "hidden": true
   },
   "outputs": [],
   "source": [
    "default_resc = resources.get_resource(session._irods_env.get(\"irods_default_resource\", \"\"))\n",
    "print(default_resc.name)\n",
    "print(default_resc.free_space) # Metadata how much bytes are left on resource, None if not set\n",
    "print(default_resc.type) # Storage policy"
   ]
  },
  {
   "cell_type": "markdown",
   "id": "f2fa5b6e",
   "metadata": {
    "hidden": true
   },
   "source": [
    "### Listing resources"
   ]
  },
  {
   "cell_type": "code",
   "execution_count": null,
   "id": "e309d749",
   "metadata": {
    "hidden": true
   },
   "outputs": [],
   "source": [
    "print(resources.resources()) # all resources\n",
    "print(resources.root_resources) # all writeable resources (name, status, free space, context)"
   ]
  },
  {
   "cell_type": "markdown",
   "id": "7fbfa57b",
   "metadata": {
    "hidden": true
   },
   "source": [
    "### Retrieve current free space\n",
    "In contrast to `resc.free_space` the function `get_free_space` accumulates all free space in the subtree starting with the resource as parent."
   ]
  },
  {
   "cell_type": "code",
   "execution_count": null,
   "id": "f1dc3412",
   "metadata": {
    "hidden": true
   },
   "outputs": [],
   "source": [
    "resources.get_free_space(session._irods_env.get(\"irods_default_resource\", \"\")) # default resource name"
   ]
  },
  {
   "cell_type": "markdown",
   "id": "377409c4",
   "metadata": {
    "heading_collapsed": true
   },
   "source": [
    "## Tickets (access string to collection or data object)\n",
    "### List all tickets which you issued"
   ]
  },
  {
   "cell_type": "code",
   "execution_count": null,
   "id": "06b5a060",
   "metadata": {
    "hidden": true
   },
   "outputs": [],
   "source": [
    "from ibridges.irodsconnector.tickets import Tickets\n",
    "tickets = Tickets(session)\n",
    "print(tickets.all_ticket_strings)\n",
    "print(tickets.all_tickets()) # (ticket string, access mode, object or collection id, expiry date in epoche)"
   ]
  },
  {
   "cell_type": "markdown",
   "id": "11360619",
   "metadata": {
    "hidden": true
   },
   "source": [
    "### Issue a ticket"
   ]
  },
  {
   "cell_type": "code",
   "execution_count": null,
   "id": "f1911d89",
   "metadata": {
    "hidden": true
   },
   "outputs": [],
   "source": [
    "from datetime import datetime\n",
    "\n",
    "exp_date = datetime.today().strftime('%Y-%m-%d.%H:%M:%S')\n",
    "objPath = \"/nluu12p/home/research-test-christine/books/BenHur.txt\"\n",
    "ticket = tickets.create_ticket(obj_path=objPath, ticket_type=\"write\", expiry_string=exp_date) # allow write access"
   ]
  },
  {
   "cell_type": "markdown",
   "id": "0306bac1",
   "metadata": {
    "hidden": true
   },
   "source": [
    "### Fetch and delete a ticket"
   ]
  },
  {
   "cell_type": "code",
   "execution_count": null,
   "id": "b1579c56",
   "metadata": {
    "hidden": true
   },
   "outputs": [],
   "source": [
    "ticket = tickets.get_ticket(tickets.all_ticket_strings[0])\n",
    "tickets.delete_ticket(ticket)"
   ]
  }
 ],
 "metadata": {
  "kernelspec": {
   "display_name": "Python 3 (ipykernel)",
   "language": "python",
   "name": "python3"
  },
  "language_info": {
   "codemirror_mode": {
    "name": "ipython",
    "version": 3
   },
   "file_extension": ".py",
   "mimetype": "text/x-python",
   "name": "python",
   "nbconvert_exporter": "python",
   "pygments_lexer": "ipython3",
   "version": "3.11.5"
  }
 },
 "nbformat": 4,
 "nbformat_minor": 5
}
