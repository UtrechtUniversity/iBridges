{
 "cells": [
  {
   "cell_type": "markdown",
   "id": "939d9be3",
   "metadata": {},
   "source": [
    "# irodsConnector "
   ]
  },
  {
   "cell_type": "markdown",
   "id": "e02a7976",
   "metadata": {
    "heading_collapsed": true
   },
   "source": [
    "## Create an iRODS session (connection to iRODS server)"
   ]
  },
  {
   "cell_type": "code",
   "execution_count": null,
   "id": "b6fd51d6",
   "metadata": {
    "hidden": true
   },
   "outputs": [],
   "source": [
    "from ibridges import Session\n",
    "import os, json\n",
    "from getpass import getpass"
   ]
  },
  {
   "cell_type": "markdown",
   "id": "2cc48382",
   "metadata": {
    "hidden": true
   },
   "source": [
    "### Password authentication"
   ]
  },
  {
   "cell_type": "code",
   "execution_count": null,
   "id": "cf36ab7b",
   "metadata": {
    "hidden": true
   },
   "outputs": [],
   "source": [
    "with open(os.path.expanduser(\"~/.irods/irods_environment.json\"), \"r\") as f:\n",
    "    ienv = json.load(f)\n",
    "password = getpass(\"Your iRODS password\")\n",
    "session = Session(irods_env=ienv, password=password)"
   ]
  },
  {
   "cell_type": "markdown",
   "id": "71f001b3",
   "metadata": {
    "heading_collapsed": true,
    "hidden": true
   },
   "source": [
    "### Using the cached password ~/.irods/.rodsA"
   ]
  },
  {
   "cell_type": "code",
   "execution_count": null,
   "id": "242eab2c",
   "metadata": {
    "hidden": true
   },
   "outputs": [],
   "source": [
    "session = Session(irods_env_path=os.path.expanduser(\"~/.irods/irods_environment.json\"))"
   ]
  },
  {
   "cell_type": "markdown",
   "id": "0fb9577d",
   "metadata": {
    "heading_collapsed": true,
    "hidden": true
   },
   "source": [
    "### Checking some session parameters"
   ]
  },
  {
   "cell_type": "code",
   "execution_count": null,
   "id": "fe178d2c",
   "metadata": {
    "hidden": true
   },
   "outputs": [],
   "source": [
    "print(session.username)\n",
    "print(session.default_resc) # the resource to which data will be uploaded\n",
    "print(session.zone) # default home for iRODS /zone/home/username\n",
    "print(session.server_version)"
   ]
  },
  {
   "cell_type": "markdown",
   "id": "8214c7fe",
   "metadata": {
    "heading_collapsed": true
   },
   "source": [
    "## Metadata of data objects and collections"
   ]
  },
  {
   "cell_type": "markdown",
   "id": "510e390a",
   "metadata": {
    "heading_collapsed": true,
    "hidden": true
   },
   "source": [
    "### Retrieve an iRODS object or collection and list its metadata"
   ]
  },
  {
   "cell_type": "code",
   "execution_count": null,
   "id": "9ae7d602",
   "metadata": {
    "hidden": true
   },
   "outputs": [],
   "source": [
    "#print(ienv)\n",
    "coll_path = ienv.get('irods_home', '') + '/books/BenHur.txt'\n",
    "print(coll_path)\n",
    "coll = session.irods_session.data_objects.get(coll_path) # TODO: exchange once data_ops is done"
   ]
  },
  {
   "cell_type": "code",
   "execution_count": null,
   "id": "2e8f3c90",
   "metadata": {
    "hidden": true
   },
   "outputs": [],
   "source": [
    "from ibridges.irodsconnector.meta import MetaData\n",
    "coll_meta = MetaData(coll)\n",
    "print(coll_meta)"
   ]
  },
  {
   "cell_type": "markdown",
   "id": "42007e1e",
   "metadata": {
    "heading_collapsed": true,
    "hidden": true
   },
   "source": [
    "### View, add, set and delete metadata"
   ]
  },
  {
   "cell_type": "code",
   "execution_count": null,
   "id": "cfa7f559",
   "metadata": {
    "hidden": true
   },
   "outputs": [],
   "source": [
    "coll_meta.add('NewKey', 'NewValue')\n",
    "coll_meta.add('NewKey', 'AnotherValue')\n",
    "print(coll_meta)"
   ]
  },
  {
   "cell_type": "markdown",
   "id": "b3a046d9",
   "metadata": {
    "hidden": true
   },
   "source": [
    "Note, that keys are always capitalised. This is good practice in iRODS."
   ]
  },
  {
   "cell_type": "code",
   "execution_count": null,
   "id": "d8aa144a",
   "metadata": {
    "hidden": true
   },
   "outputs": [],
   "source": [
    "coll_meta.delete('NEWKEY', 'NewValue')\n",
    "print(coll_meta)"
   ]
  },
  {
   "cell_type": "markdown",
   "id": "f7b5cafa",
   "metadata": {
    "hidden": true
   },
   "source": [
    "We can also set the meta data to a single key, value, units pair. This will remove any other entries with the same key."
   ]
  },
  {
   "cell_type": "code",
   "execution_count": null,
   "id": "770cbec2",
   "metadata": {
    "hidden": true
   },
   "outputs": [],
   "source": [
    "coll_meta.set(\"NEWKEY\", \"YetAnotherValue\")\n",
    "print(coll_meta)"
   ]
  },
  {
   "cell_type": "markdown",
   "id": "8c4ced48",
   "metadata": {
    "heading_collapsed": true,
    "hidden": true
   },
   "source": [
    "### Accessing metadata \n",
    "With the orint function you can quickly inspect the metadata of an iRODS collection or object. If you want to extract and do something with the metadata, use the `__iter__` function. We give a small example below where we assume that the metadata contains a key/name *AUTHOR*:"
   ]
  },
  {
   "cell_type": "code",
   "execution_count": null,
   "id": "8debeb07",
   "metadata": {
    "hidden": true
   },
   "outputs": [],
   "source": [
    "for md in coll_meta.__iter__():\n",
    "    if md.name == 'AUTHOR':\n",
    "        print(coll_meta.item, \"was written by\", md.value)"
   ]
  },
  {
   "cell_type": "markdown",
   "id": "82fb48cc",
   "metadata": {
    "heading_collapsed": true
   },
   "source": [
    "## Resources and handling resources"
   ]
  },
  {
   "cell_type": "code",
   "execution_count": null,
   "id": "7361e841",
   "metadata": {
    "hidden": true
   },
   "outputs": [],
   "source": [
    "from ibridges.irodsconnector.resources import Resources\n",
    "resources = Resources(session)"
   ]
  },
  {
   "cell_type": "markdown",
   "id": "3ed14f46",
   "metadata": {
    "heading_collapsed": true,
    "hidden": true
   },
   "source": [
    "### Check if default resource exists"
   ]
  },
  {
   "cell_type": "code",
   "execution_count": null,
   "id": "26c6e657",
   "metadata": {
    "hidden": true
   },
   "outputs": [],
   "source": [
    "default_resc = resources.get_resource(session._irods_env.get(\"irods_default_resource\", \"\"))\n",
    "print(default_resc.name)\n",
    "print(default_resc.free_space) # Metadata how much bytes are left on resource, None if not set\n",
    "print(default_resc.type) # Storage policy"
   ]
  },
  {
   "cell_type": "markdown",
   "id": "f2fa5b6e",
   "metadata": {
    "heading_collapsed": true,
    "hidden": true
   },
   "source": [
    "### Listing resources"
   ]
  },
  {
   "cell_type": "code",
   "execution_count": null,
   "id": "e309d749",
   "metadata": {
    "hidden": true
   },
   "outputs": [],
   "source": [
    "print(resources.resources()) # all resources\n",
    "print(resources.root_resources) # all writeable resources (name, status, free space, context)"
   ]
  },
  {
   "cell_type": "markdown",
   "id": "7fbfa57b",
   "metadata": {
    "heading_collapsed": true,
    "hidden": true
   },
   "source": [
    "### Retrieve current free space\n",
    "In contrast to `resc.free_space` the function `get_free_space` accumulates all free space in the subtree starting with the resource as parent."
   ]
  },
  {
   "cell_type": "code",
   "execution_count": null,
   "id": "f1dc3412",
   "metadata": {
    "hidden": true
   },
   "outputs": [],
   "source": [
    "resources.get_free_space(session._irods_env.get(\"irods_default_resource\", \"\")) # default resource name"
   ]
  },
  {
   "cell_type": "markdown",
   "id": "377409c4",
   "metadata": {
    "heading_collapsed": true
   },
   "source": [
    "## Tickets (access string to collection or data object)"
   ]
  },
  {
   "cell_type": "markdown",
   "id": "ecc98bb6",
   "metadata": {
    "heading_collapsed": true,
    "hidden": true
   },
   "source": [
    "### List all tickets which you issued"
   ]
  },
  {
   "cell_type": "code",
   "execution_count": null,
   "id": "06b5a060",
   "metadata": {
    "hidden": true
   },
   "outputs": [],
   "source": [
    "from ibridges.irodsconnector.tickets import Tickets\n",
    "tickets = Tickets(session)\n",
    "print(tickets.all_ticket_strings)\n",
    "print(tickets.all_tickets()) # (ticket string, access mode, object or collection id, expiry date in epoche)"
   ]
  },
  {
   "cell_type": "markdown",
   "id": "11360619",
   "metadata": {
    "heading_collapsed": true,
    "hidden": true
   },
   "source": [
    "### Issue a ticket"
   ]
  },
  {
   "cell_type": "code",
   "execution_count": null,
   "id": "f1911d89",
   "metadata": {
    "hidden": true
   },
   "outputs": [],
   "source": [
    "from datetime import datetime\n",
    "\n",
    "exp_date = datetime.today().strftime('%Y-%m-%d.%H:%M:%S')\n",
    "objPath = \"/nluu12p/home/research-test-christine/books/BenHur.txt\"\n",
    "ticket = tickets.create_ticket(obj_path=objPath, ticket_type=\"write\", expiry_string=exp_date) # allow write access"
   ]
  },
  {
   "cell_type": "code",
   "execution_count": null,
   "id": "b04270a7-d839-4c0d-950f-a529ea8b27bf",
   "metadata": {
    "hidden": true
   },
   "outputs": [],
   "source": [
    "tickets.all_ticket_strings"
   ]
  },
  {
   "cell_type": "markdown",
   "id": "0306bac1",
   "metadata": {
    "heading_collapsed": true,
    "hidden": true
   },
   "source": [
    "### Fetch and delete a ticket"
   ]
  },
  {
   "cell_type": "code",
   "execution_count": null,
   "id": "b1579c56",
   "metadata": {
    "hidden": true
   },
   "outputs": [],
   "source": [
    "ticket = tickets.get_ticket(tickets.all_ticket_strings[0])\n",
    "tickets.delete_ticket(ticket)"
   ]
  },
  {
   "cell_type": "markdown",
   "id": "e99c08e5",
   "metadata": {
    "heading_collapsed": true
   },
   "source": [
    "## Rules\n",
    "Execute an iRODS rule from a rule file:"
   ]
  },
  {
   "cell_type": "code",
   "execution_count": null,
   "id": "3913b742",
   "metadata": {
    "hidden": true
   },
   "outputs": [],
   "source": [
    "from ibridges.irodsconnector.rules import Rules\n",
    "rules = Rules(session)\n",
    "rule_file = \"example_rules/example.r\"\n",
    "stdout, stderr = rules.execute_rule(rule_file, {})"
   ]
  },
  {
   "cell_type": "code",
   "execution_count": null,
   "id": "900f8ab2",
   "metadata": {
    "hidden": true
   },
   "outputs": [],
   "source": [
    "print(stdout)\n",
    "print(stderr)"
   ]
  },
  {
   "cell_type": "markdown",
   "id": "97970ce3",
   "metadata": {
    "hidden": true
   },
   "source": [
    "### Overwrite parameters in iRODS rules\n",
    "iRODS rule files end with a line like `input *in=\"This is a string or a path or etc\"`. In this example there is an input parameter called `'*in'` and it takes the value `\"This is a string or a path or etc\"`. We can overwrite these values by passing a python dictionary:"
   ]
  },
  {
   "cell_type": "code",
   "execution_count": null,
   "id": "5a6ce87a",
   "metadata": {
    "hidden": true
   },
   "outputs": [],
   "source": [
    "params = {'*in': '\"Another input\"'}\n",
    "stdout, stderr = rules.execute_rule(rule_file, params)\n",
    "print(stdout)"
   ]
  },
  {
   "cell_type": "markdown",
   "id": "afb54c03",
   "metadata": {
    "hidden": true
   },
   "source": [
    "Changing the type of the parameter from str to int, you can also see that keys in the dictionary which do not correspond to an input parameter, are simply ignored."
   ]
  },
  {
   "cell_type": "code",
   "execution_count": null,
   "id": "d06d1f54",
   "metadata": {
    "hidden": true
   },
   "outputs": [],
   "source": [
    "params = {'*in': 4, '*another_val': '\"Value\"'}\n",
    "stdout, stderr = rules.execute_rule(rule_file, params)\n",
    "print(stdout)"
   ]
  },
  {
   "cell_type": "markdown",
   "id": "30a2d4a6",
   "metadata": {},
   "source": [
    "## Permissions"
   ]
  },
  {
   "cell_type": "markdown",
   "id": "0abc7c82",
   "metadata": {
    "heading_collapsed": true
   },
   "source": [
    "### Accessing the permissions of a data object or collection in iRODS\n",
    "\n",
    "Objects and collections have permissions attached to them. Permissions, which work like access levels, must be specified per user or group. The basic permissions are `own` (implies reading and writing), `modify object` (editing and reading), and `read object`."
   ]
  },
  {
   "cell_type": "code",
   "execution_count": null,
   "id": "1eb3a627",
   "metadata": {
    "hidden": true
   },
   "outputs": [],
   "source": [
    "from ibridges.irodsconnector.permissions import Permissions\n",
    "\n",
    "# select a file to inspect and set permissions on\n",
    "item_path = ienv.get('irods_home', '/'+session.zone+'/home') # Path to collection or data object\n",
    "item = session.irods_session.collections.get(item_path) # TODO: exchange once data_ops is done\n",
    "\n",
    "# instantiate permissions with that object\n",
    "perm = Permissions(session, item)\n",
    "print(f'Permissions for {item_path}:\\n')\n",
    "print(perm)"
   ]
  },
  {
   "cell_type": "markdown",
   "id": "f2d1c093",
   "metadata": {
    "heading_collapsed": true
   },
   "source": [
    "### Available permissions on your iRODS server"
   ]
  },
  {
   "cell_type": "code",
   "execution_count": null,
   "id": "691dbaa1",
   "metadata": {
    "hidden": true
   },
   "outputs": [],
   "source": [
    "obj_perm.available_permissions.codes"
   ]
  },
  {
   "cell_type": "markdown",
   "id": "b84f75ba",
   "metadata": {
    "heading_collapsed": true
   },
   "source": [
    "### Adding permissions to a collection or data object"
   ]
  },
  {
   "cell_type": "code",
   "execution_count": null,
   "id": "4e2e1737",
   "metadata": {
    "hidden": true
   },
   "outputs": [],
   "source": [
    "perm.set('modify object', '<username or group name>')\n",
    "print(perm)"
   ]
  },
  {
   "cell_type": "markdown",
   "id": "e5779c58",
   "metadata": {
    "hidden": true
   },
   "source": [
    "Note that some permission-types have synonyms:\n",
    "\n",
    "+ read object: 'read', 'read object', 'read_object'\n",
    "+ modify object: 'write', 'modify object', 'modify_object'"
   ]
  },
  {
   "cell_type": "markdown",
   "id": "8c2ba10d",
   "metadata": {
    "heading_collapsed": true
   },
   "source": [
    "### Removing permissions"
   ]
  },
  {
   "cell_type": "code",
   "execution_count": null,
   "id": "21bda746",
   "metadata": {
    "hidden": true
   },
   "outputs": [],
   "source": [
    "perm.set('null', '<username or group name>')\n",
    "print(perm)"
   ]
  },
  {
   "cell_type": "markdown",
   "id": "4d52f16b",
   "metadata": {
    "heading_collapsed": true
   },
   "source": [
    "### Inheritance"
   ]
  },
  {
   "cell_type": "markdown",
   "id": "76942f18",
   "metadata": {
    "hidden": true
   },
   "source": [
    "Collections have two special permissions level `inherit` and `noinherit`. From the point in time where inheritance in switched on, all newly added subcollections and data objects will inherit their initial permissions from the collection."
   ]
  },
  {
   "cell_type": "code",
   "execution_count": null,
   "id": "60251c8a",
   "metadata": {
    "hidden": true
   },
   "outputs": [],
   "source": [
    "# Retrieve a collection from iRODS\n",
    "coll_path = ienv.get('irods_home1', '/'+session.zone+'/home')\n",
    "coll = session.irods_session.collections.get(item_path)\n",
    "coll_perm = Permissions(session, coll)\n",
    "\n",
    "#Switch inheritance on\n",
    "coll_perm.set('inherit')\n",
    "print(coll_perm)"
   ]
  },
  {
   "cell_type": "code",
   "execution_count": null,
   "id": "ec9bd025",
   "metadata": {
    "hidden": true
   },
   "outputs": [],
   "source": [
    "# Switch inheritance off\n",
    "coll_perm.set('noinherit')\n",
    "print(coll_perm)"
   ]
  }
 ],
 "metadata": {
  "kernelspec": {
   "display_name": "Python 3 (ipykernel)",
   "language": "python",
   "name": "python3"
  },
  "language_info": {
   "codemirror_mode": {
    "name": "ipython",
    "version": 3
   },
   "file_extension": ".py",
   "mimetype": "text/x-python",
   "name": "python",
   "nbconvert_exporter": "python",
   "pygments_lexer": "ipython3",
   "version": "3.10.13"
  }
 },
 "nbformat": 4,
 "nbformat_minor": 5
}
